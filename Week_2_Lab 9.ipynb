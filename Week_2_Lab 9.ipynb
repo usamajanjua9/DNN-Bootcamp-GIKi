{
  "nbformat": 4,
  "nbformat_minor": 0,
  "metadata": {
    "colab": {
      "provenance": []
    },
    "kernelspec": {
      "name": "python3",
      "display_name": "Python 3"
    },
    "language_info": {
      "name": "python"
    },
    "widgets": {
      "application/vnd.jupyter.widget-state+json": {
        "1d995a03872e464db72060bdff6d3014": {
          "model_module": "@jupyter-widgets/controls",
          "model_name": "ButtonModel",
          "model_module_version": "1.5.0",
          "state": {
            "_dom_classes": [],
            "_model_module": "@jupyter-widgets/controls",
            "_model_module_version": "1.5.0",
            "_model_name": "ButtonModel",
            "_view_count": null,
            "_view_module": "@jupyter-widgets/controls",
            "_view_module_version": "1.5.0",
            "_view_name": "ButtonView",
            "button_style": "",
            "description": "Display Dataset Info",
            "disabled": false,
            "icon": "",
            "layout": "IPY_MODEL_89a963b2cdf942a2a749be6f8157a24b",
            "style": "IPY_MODEL_1ad25089f57b4d96b486c32a05df4f97",
            "tooltip": ""
          }
        },
        "89a963b2cdf942a2a749be6f8157a24b": {
          "model_module": "@jupyter-widgets/base",
          "model_name": "LayoutModel",
          "model_module_version": "1.2.0",
          "state": {
            "_model_module": "@jupyter-widgets/base",
            "_model_module_version": "1.2.0",
            "_model_name": "LayoutModel",
            "_view_count": null,
            "_view_module": "@jupyter-widgets/base",
            "_view_module_version": "1.2.0",
            "_view_name": "LayoutView",
            "align_content": null,
            "align_items": null,
            "align_self": null,
            "border": null,
            "bottom": null,
            "display": null,
            "flex": null,
            "flex_flow": null,
            "grid_area": null,
            "grid_auto_columns": null,
            "grid_auto_flow": null,
            "grid_auto_rows": null,
            "grid_column": null,
            "grid_gap": null,
            "grid_row": null,
            "grid_template_areas": null,
            "grid_template_columns": null,
            "grid_template_rows": null,
            "height": null,
            "justify_content": null,
            "justify_items": null,
            "left": null,
            "margin": null,
            "max_height": null,
            "max_width": null,
            "min_height": null,
            "min_width": null,
            "object_fit": null,
            "object_position": null,
            "order": null,
            "overflow": null,
            "overflow_x": null,
            "overflow_y": null,
            "padding": null,
            "right": null,
            "top": null,
            "visibility": null,
            "width": null
          }
        },
        "1ad25089f57b4d96b486c32a05df4f97": {
          "model_module": "@jupyter-widgets/controls",
          "model_name": "ButtonStyleModel",
          "model_module_version": "1.5.0",
          "state": {
            "_model_module": "@jupyter-widgets/controls",
            "_model_module_version": "1.5.0",
            "_model_name": "ButtonStyleModel",
            "_view_count": null,
            "_view_module": "@jupyter-widgets/base",
            "_view_module_version": "1.2.0",
            "_view_name": "StyleView",
            "button_color": null,
            "font_weight": ""
          }
        },
        "06396e7a796647be8991bc70712384da": {
          "model_module": "@jupyter-widgets/controls",
          "model_name": "DropdownModel",
          "model_module_version": "1.5.0",
          "state": {
            "_dom_classes": [],
            "_model_module": "@jupyter-widgets/controls",
            "_model_module_version": "1.5.0",
            "_model_name": "DropdownModel",
            "_options_labels": [
              "MedInc",
              "HouseAge",
              "AveRooms",
              "AveBedrms",
              "Population",
              "AveOccup",
              "Latitude",
              "Longitude"
            ],
            "_view_count": null,
            "_view_module": "@jupyter-widgets/controls",
            "_view_module_version": "1.5.0",
            "_view_name": "DropdownView",
            "description": "Feature:",
            "description_tooltip": null,
            "disabled": false,
            "index": 2,
            "layout": "IPY_MODEL_30ef90ec63024b0c8a4a2c02eb333d97",
            "style": "IPY_MODEL_463d825e64164c2395a493afb847357b"
          }
        },
        "30ef90ec63024b0c8a4a2c02eb333d97": {
          "model_module": "@jupyter-widgets/base",
          "model_name": "LayoutModel",
          "model_module_version": "1.2.0",
          "state": {
            "_model_module": "@jupyter-widgets/base",
            "_model_module_version": "1.2.0",
            "_model_name": "LayoutModel",
            "_view_count": null,
            "_view_module": "@jupyter-widgets/base",
            "_view_module_version": "1.2.0",
            "_view_name": "LayoutView",
            "align_content": null,
            "align_items": null,
            "align_self": null,
            "border": null,
            "bottom": null,
            "display": null,
            "flex": null,
            "flex_flow": null,
            "grid_area": null,
            "grid_auto_columns": null,
            "grid_auto_flow": null,
            "grid_auto_rows": null,
            "grid_column": null,
            "grid_gap": null,
            "grid_row": null,
            "grid_template_areas": null,
            "grid_template_columns": null,
            "grid_template_rows": null,
            "height": null,
            "justify_content": null,
            "justify_items": null,
            "left": null,
            "margin": null,
            "max_height": null,
            "max_width": null,
            "min_height": null,
            "min_width": null,
            "object_fit": null,
            "object_position": null,
            "order": null,
            "overflow": null,
            "overflow_x": null,
            "overflow_y": null,
            "padding": null,
            "right": null,
            "top": null,
            "visibility": null,
            "width": null
          }
        },
        "463d825e64164c2395a493afb847357b": {
          "model_module": "@jupyter-widgets/controls",
          "model_name": "DescriptionStyleModel",
          "model_module_version": "1.5.0",
          "state": {
            "_model_module": "@jupyter-widgets/controls",
            "_model_module_version": "1.5.0",
            "_model_name": "DescriptionStyleModel",
            "_view_count": null,
            "_view_module": "@jupyter-widgets/base",
            "_view_module_version": "1.2.0",
            "_view_name": "StyleView",
            "description_width": ""
          }
        },
        "bba1976cc3cb4c5a91c57c09b8a7dd09": {
          "model_module": "@jupyter-widgets/controls",
          "model_name": "DropdownModel",
          "model_module_version": "1.5.0",
          "state": {
            "_dom_classes": [],
            "_model_module": "@jupyter-widgets/controls",
            "_model_module_version": "1.5.0",
            "_model_name": "DropdownModel",
            "_options_labels": [
              "None",
              "Standard Scaler",
              "Min-Max Scaler",
              "Robust Scaler"
            ],
            "_view_count": null,
            "_view_module": "@jupyter-widgets/controls",
            "_view_module_version": "1.5.0",
            "_view_name": "DropdownView",
            "description": "Preprocess:",
            "description_tooltip": null,
            "disabled": false,
            "index": 0,
            "layout": "IPY_MODEL_36803c69ff174c089de24f9d4ed1dec5",
            "style": "IPY_MODEL_3718b9eb9e2442b1b3c11733e5eee2e6"
          }
        },
        "36803c69ff174c089de24f9d4ed1dec5": {
          "model_module": "@jupyter-widgets/base",
          "model_name": "LayoutModel",
          "model_module_version": "1.2.0",
          "state": {
            "_model_module": "@jupyter-widgets/base",
            "_model_module_version": "1.2.0",
            "_model_name": "LayoutModel",
            "_view_count": null,
            "_view_module": "@jupyter-widgets/base",
            "_view_module_version": "1.2.0",
            "_view_name": "LayoutView",
            "align_content": null,
            "align_items": null,
            "align_self": null,
            "border": null,
            "bottom": null,
            "display": null,
            "flex": null,
            "flex_flow": null,
            "grid_area": null,
            "grid_auto_columns": null,
            "grid_auto_flow": null,
            "grid_auto_rows": null,
            "grid_column": null,
            "grid_gap": null,
            "grid_row": null,
            "grid_template_areas": null,
            "grid_template_columns": null,
            "grid_template_rows": null,
            "height": null,
            "justify_content": null,
            "justify_items": null,
            "left": null,
            "margin": null,
            "max_height": null,
            "max_width": null,
            "min_height": null,
            "min_width": null,
            "object_fit": null,
            "object_position": null,
            "order": null,
            "overflow": null,
            "overflow_x": null,
            "overflow_y": null,
            "padding": null,
            "right": null,
            "top": null,
            "visibility": null,
            "width": null
          }
        },
        "3718b9eb9e2442b1b3c11733e5eee2e6": {
          "model_module": "@jupyter-widgets/controls",
          "model_name": "DescriptionStyleModel",
          "model_module_version": "1.5.0",
          "state": {
            "_model_module": "@jupyter-widgets/controls",
            "_model_module_version": "1.5.0",
            "_model_name": "DescriptionStyleModel",
            "_view_count": null,
            "_view_module": "@jupyter-widgets/base",
            "_view_module_version": "1.2.0",
            "_view_name": "StyleView",
            "description_width": ""
          }
        },
        "4cb2fc6de8b64bc59638796328a78dbc": {
          "model_module": "@jupyter-widgets/controls",
          "model_name": "ButtonModel",
          "model_module_version": "1.5.0",
          "state": {
            "_dom_classes": [],
            "_model_module": "@jupyter-widgets/controls",
            "_model_module_version": "1.5.0",
            "_model_name": "ButtonModel",
            "_view_count": null,
            "_view_module": "@jupyter-widgets/controls",
            "_view_module_version": "1.5.0",
            "_view_name": "ButtonView",
            "button_style": "",
            "description": "Visualize Data",
            "disabled": false,
            "icon": "",
            "layout": "IPY_MODEL_6d993aeab92842d8ab32a114cd3c2029",
            "style": "IPY_MODEL_60544be09246411781e71f4441b97d6f",
            "tooltip": ""
          }
        },
        "6d993aeab92842d8ab32a114cd3c2029": {
          "model_module": "@jupyter-widgets/base",
          "model_name": "LayoutModel",
          "model_module_version": "1.2.0",
          "state": {
            "_model_module": "@jupyter-widgets/base",
            "_model_module_version": "1.2.0",
            "_model_name": "LayoutModel",
            "_view_count": null,
            "_view_module": "@jupyter-widgets/base",
            "_view_module_version": "1.2.0",
            "_view_name": "LayoutView",
            "align_content": null,
            "align_items": null,
            "align_self": null,
            "border": null,
            "bottom": null,
            "display": null,
            "flex": null,
            "flex_flow": null,
            "grid_area": null,
            "grid_auto_columns": null,
            "grid_auto_flow": null,
            "grid_auto_rows": null,
            "grid_column": null,
            "grid_gap": null,
            "grid_row": null,
            "grid_template_areas": null,
            "grid_template_columns": null,
            "grid_template_rows": null,
            "height": null,
            "justify_content": null,
            "justify_items": null,
            "left": null,
            "margin": null,
            "max_height": null,
            "max_width": null,
            "min_height": null,
            "min_width": null,
            "object_fit": null,
            "object_position": null,
            "order": null,
            "overflow": null,
            "overflow_x": null,
            "overflow_y": null,
            "padding": null,
            "right": null,
            "top": null,
            "visibility": null,
            "width": null
          }
        },
        "60544be09246411781e71f4441b97d6f": {
          "model_module": "@jupyter-widgets/controls",
          "model_name": "ButtonStyleModel",
          "model_module_version": "1.5.0",
          "state": {
            "_model_module": "@jupyter-widgets/controls",
            "_model_module_version": "1.5.0",
            "_model_name": "ButtonStyleModel",
            "_view_count": null,
            "_view_module": "@jupyter-widgets/base",
            "_view_module_version": "1.2.0",
            "_view_name": "StyleView",
            "button_color": null,
            "font_weight": ""
          }
        },
        "da5b952ae5bc45af864a775d366d0281": {
          "model_module": "@jupyter-widgets/controls",
          "model_name": "ButtonModel",
          "model_module_version": "1.5.0",
          "state": {
            "_dom_classes": [],
            "_model_module": "@jupyter-widgets/controls",
            "_model_module_version": "1.5.0",
            "_model_name": "ButtonModel",
            "_view_count": null,
            "_view_module": "@jupyter-widgets/controls",
            "_view_module_version": "1.5.0",
            "_view_name": "ButtonView",
            "button_style": "",
            "description": "Perform Linear Regression",
            "disabled": false,
            "icon": "",
            "layout": "IPY_MODEL_b43b411c86684d1daf9850b3c8863b99",
            "style": "IPY_MODEL_7b5aac13855a4d3a85f4e66d4ff850c9",
            "tooltip": ""
          }
        },
        "b43b411c86684d1daf9850b3c8863b99": {
          "model_module": "@jupyter-widgets/base",
          "model_name": "LayoutModel",
          "model_module_version": "1.2.0",
          "state": {
            "_model_module": "@jupyter-widgets/base",
            "_model_module_version": "1.2.0",
            "_model_name": "LayoutModel",
            "_view_count": null,
            "_view_module": "@jupyter-widgets/base",
            "_view_module_version": "1.2.0",
            "_view_name": "LayoutView",
            "align_content": null,
            "align_items": null,
            "align_self": null,
            "border": null,
            "bottom": null,
            "display": null,
            "flex": null,
            "flex_flow": null,
            "grid_area": null,
            "grid_auto_columns": null,
            "grid_auto_flow": null,
            "grid_auto_rows": null,
            "grid_column": null,
            "grid_gap": null,
            "grid_row": null,
            "grid_template_areas": null,
            "grid_template_columns": null,
            "grid_template_rows": null,
            "height": null,
            "justify_content": null,
            "justify_items": null,
            "left": null,
            "margin": null,
            "max_height": null,
            "max_width": null,
            "min_height": null,
            "min_width": null,
            "object_fit": null,
            "object_position": null,
            "order": null,
            "overflow": null,
            "overflow_x": null,
            "overflow_y": null,
            "padding": null,
            "right": null,
            "top": null,
            "visibility": null,
            "width": null
          }
        },
        "7b5aac13855a4d3a85f4e66d4ff850c9": {
          "model_module": "@jupyter-widgets/controls",
          "model_name": "ButtonStyleModel",
          "model_module_version": "1.5.0",
          "state": {
            "_model_module": "@jupyter-widgets/controls",
            "_model_module_version": "1.5.0",
            "_model_name": "ButtonStyleModel",
            "_view_count": null,
            "_view_module": "@jupyter-widgets/base",
            "_view_module_version": "1.2.0",
            "_view_name": "StyleView",
            "button_color": null,
            "font_weight": ""
          }
        },
        "4f04d9eb99054e11851b871ff8993f2c": {
          "model_module": "@jupyter-widgets/controls",
          "model_name": "FloatTextModel",
          "model_module_version": "1.5.0",
          "state": {
            "_dom_classes": [],
            "_model_module": "@jupyter-widgets/controls",
            "_model_module_version": "1.5.0",
            "_model_name": "FloatTextModel",
            "_view_count": null,
            "_view_module": "@jupyter-widgets/controls",
            "_view_module_version": "1.5.0",
            "_view_name": "FloatTextView",
            "continuous_update": false,
            "description": "Input Value:",
            "description_tooltip": null,
            "disabled": false,
            "layout": "IPY_MODEL_56b50f1c26674b1694b71b5b8a9146d0",
            "step": null,
            "style": "IPY_MODEL_f6a58e4cfe274fb8b1343c2ed254d651",
            "value": 0
          }
        },
        "56b50f1c26674b1694b71b5b8a9146d0": {
          "model_module": "@jupyter-widgets/base",
          "model_name": "LayoutModel",
          "model_module_version": "1.2.0",
          "state": {
            "_model_module": "@jupyter-widgets/base",
            "_model_module_version": "1.2.0",
            "_model_name": "LayoutModel",
            "_view_count": null,
            "_view_module": "@jupyter-widgets/base",
            "_view_module_version": "1.2.0",
            "_view_name": "LayoutView",
            "align_content": null,
            "align_items": null,
            "align_self": null,
            "border": null,
            "bottom": null,
            "display": null,
            "flex": null,
            "flex_flow": null,
            "grid_area": null,
            "grid_auto_columns": null,
            "grid_auto_flow": null,
            "grid_auto_rows": null,
            "grid_column": null,
            "grid_gap": null,
            "grid_row": null,
            "grid_template_areas": null,
            "grid_template_columns": null,
            "grid_template_rows": null,
            "height": null,
            "justify_content": null,
            "justify_items": null,
            "left": null,
            "margin": null,
            "max_height": null,
            "max_width": null,
            "min_height": null,
            "min_width": null,
            "object_fit": null,
            "object_position": null,
            "order": null,
            "overflow": null,
            "overflow_x": null,
            "overflow_y": null,
            "padding": null,
            "right": null,
            "top": null,
            "visibility": null,
            "width": null
          }
        },
        "f6a58e4cfe274fb8b1343c2ed254d651": {
          "model_module": "@jupyter-widgets/controls",
          "model_name": "DescriptionStyleModel",
          "model_module_version": "1.5.0",
          "state": {
            "_model_module": "@jupyter-widgets/controls",
            "_model_module_version": "1.5.0",
            "_model_name": "DescriptionStyleModel",
            "_view_count": null,
            "_view_module": "@jupyter-widgets/base",
            "_view_module_version": "1.2.0",
            "_view_name": "StyleView",
            "description_width": ""
          }
        },
        "7f3217e960f74b0e9066eb5fa05d7ec4": {
          "model_module": "@jupyter-widgets/controls",
          "model_name": "ButtonModel",
          "model_module_version": "1.5.0",
          "state": {
            "_dom_classes": [],
            "_model_module": "@jupyter-widgets/controls",
            "_model_module_version": "1.5.0",
            "_model_name": "ButtonModel",
            "_view_count": null,
            "_view_module": "@jupyter-widgets/controls",
            "_view_module_version": "1.5.0",
            "_view_name": "ButtonView",
            "button_style": "",
            "description": "Make Prediction",
            "disabled": false,
            "icon": "",
            "layout": "IPY_MODEL_57cd1e87e19b4b4bbb8366c20a0e0423",
            "style": "IPY_MODEL_7dd30036a6ea4b07be5023fe641329a8",
            "tooltip": ""
          }
        },
        "57cd1e87e19b4b4bbb8366c20a0e0423": {
          "model_module": "@jupyter-widgets/base",
          "model_name": "LayoutModel",
          "model_module_version": "1.2.0",
          "state": {
            "_model_module": "@jupyter-widgets/base",
            "_model_module_version": "1.2.0",
            "_model_name": "LayoutModel",
            "_view_count": null,
            "_view_module": "@jupyter-widgets/base",
            "_view_module_version": "1.2.0",
            "_view_name": "LayoutView",
            "align_content": null,
            "align_items": null,
            "align_self": null,
            "border": null,
            "bottom": null,
            "display": null,
            "flex": null,
            "flex_flow": null,
            "grid_area": null,
            "grid_auto_columns": null,
            "grid_auto_flow": null,
            "grid_auto_rows": null,
            "grid_column": null,
            "grid_gap": null,
            "grid_row": null,
            "grid_template_areas": null,
            "grid_template_columns": null,
            "grid_template_rows": null,
            "height": null,
            "justify_content": null,
            "justify_items": null,
            "left": null,
            "margin": null,
            "max_height": null,
            "max_width": null,
            "min_height": null,
            "min_width": null,
            "object_fit": null,
            "object_position": null,
            "order": null,
            "overflow": null,
            "overflow_x": null,
            "overflow_y": null,
            "padding": null,
            "right": null,
            "top": null,
            "visibility": null,
            "width": null
          }
        },
        "7dd30036a6ea4b07be5023fe641329a8": {
          "model_module": "@jupyter-widgets/controls",
          "model_name": "ButtonStyleModel",
          "model_module_version": "1.5.0",
          "state": {
            "_model_module": "@jupyter-widgets/controls",
            "_model_module_version": "1.5.0",
            "_model_name": "ButtonStyleModel",
            "_view_count": null,
            "_view_module": "@jupyter-widgets/base",
            "_view_module_version": "1.2.0",
            "_view_name": "StyleView",
            "button_color": null,
            "font_weight": ""
          }
        },
        "2e9273b29d9c40a8a9b421f5ddd7eb2f": {
          "model_module": "@jupyter-widgets/controls",
          "model_name": "ButtonModel",
          "model_module_version": "1.5.0",
          "state": {
            "_dom_classes": [],
            "_model_module": "@jupyter-widgets/controls",
            "_model_module_version": "1.5.0",
            "_model_name": "ButtonModel",
            "_view_count": null,
            "_view_module": "@jupyter-widgets/controls",
            "_view_module_version": "1.5.0",
            "_view_name": "ButtonView",
            "button_style": "",
            "description": "Display Dataset Info",
            "disabled": false,
            "icon": "",
            "layout": "IPY_MODEL_1f26a7249f9d41eab229ae7b99f640f0",
            "style": "IPY_MODEL_ded7857034d44c8787879931ffcb74dd",
            "tooltip": ""
          }
        },
        "1f26a7249f9d41eab229ae7b99f640f0": {
          "model_module": "@jupyter-widgets/base",
          "model_name": "LayoutModel",
          "model_module_version": "1.2.0",
          "state": {
            "_model_module": "@jupyter-widgets/base",
            "_model_module_version": "1.2.0",
            "_model_name": "LayoutModel",
            "_view_count": null,
            "_view_module": "@jupyter-widgets/base",
            "_view_module_version": "1.2.0",
            "_view_name": "LayoutView",
            "align_content": null,
            "align_items": null,
            "align_self": null,
            "border": null,
            "bottom": null,
            "display": null,
            "flex": null,
            "flex_flow": null,
            "grid_area": null,
            "grid_auto_columns": null,
            "grid_auto_flow": null,
            "grid_auto_rows": null,
            "grid_column": null,
            "grid_gap": null,
            "grid_row": null,
            "grid_template_areas": null,
            "grid_template_columns": null,
            "grid_template_rows": null,
            "height": null,
            "justify_content": null,
            "justify_items": null,
            "left": null,
            "margin": null,
            "max_height": null,
            "max_width": null,
            "min_height": null,
            "min_width": null,
            "object_fit": null,
            "object_position": null,
            "order": null,
            "overflow": null,
            "overflow_x": null,
            "overflow_y": null,
            "padding": null,
            "right": null,
            "top": null,
            "visibility": null,
            "width": null
          }
        },
        "ded7857034d44c8787879931ffcb74dd": {
          "model_module": "@jupyter-widgets/controls",
          "model_name": "ButtonStyleModel",
          "model_module_version": "1.5.0",
          "state": {
            "_model_module": "@jupyter-widgets/controls",
            "_model_module_version": "1.5.0",
            "_model_name": "ButtonStyleModel",
            "_view_count": null,
            "_view_module": "@jupyter-widgets/base",
            "_view_module_version": "1.2.0",
            "_view_name": "StyleView",
            "button_color": null,
            "font_weight": ""
          }
        },
        "1fe80a12260b466e83da72239f7ea2ed": {
          "model_module": "@jupyter-widgets/controls",
          "model_name": "DropdownModel",
          "model_module_version": "1.5.0",
          "state": {
            "_dom_classes": [],
            "_model_module": "@jupyter-widgets/controls",
            "_model_module_version": "1.5.0",
            "_model_name": "DropdownModel",
            "_options_labels": [
              "MedInc",
              "HouseAge",
              "AveRooms",
              "AveBedrms",
              "Population",
              "AveOccup",
              "Latitude",
              "Longitude"
            ],
            "_view_count": null,
            "_view_module": "@jupyter-widgets/controls",
            "_view_module_version": "1.5.0",
            "_view_name": "DropdownView",
            "description": "Feature:",
            "description_tooltip": null,
            "disabled": false,
            "index": 2,
            "layout": "IPY_MODEL_033ec09e650d4ae998e91c6cd2ef6938",
            "style": "IPY_MODEL_97249441b4ec40a2ba9f79dcd5580df4"
          }
        },
        "033ec09e650d4ae998e91c6cd2ef6938": {
          "model_module": "@jupyter-widgets/base",
          "model_name": "LayoutModel",
          "model_module_version": "1.2.0",
          "state": {
            "_model_module": "@jupyter-widgets/base",
            "_model_module_version": "1.2.0",
            "_model_name": "LayoutModel",
            "_view_count": null,
            "_view_module": "@jupyter-widgets/base",
            "_view_module_version": "1.2.0",
            "_view_name": "LayoutView",
            "align_content": null,
            "align_items": null,
            "align_self": null,
            "border": null,
            "bottom": null,
            "display": null,
            "flex": null,
            "flex_flow": null,
            "grid_area": null,
            "grid_auto_columns": null,
            "grid_auto_flow": null,
            "grid_auto_rows": null,
            "grid_column": null,
            "grid_gap": null,
            "grid_row": null,
            "grid_template_areas": null,
            "grid_template_columns": null,
            "grid_template_rows": null,
            "height": null,
            "justify_content": null,
            "justify_items": null,
            "left": null,
            "margin": null,
            "max_height": null,
            "max_width": null,
            "min_height": null,
            "min_width": null,
            "object_fit": null,
            "object_position": null,
            "order": null,
            "overflow": null,
            "overflow_x": null,
            "overflow_y": null,
            "padding": null,
            "right": null,
            "top": null,
            "visibility": null,
            "width": null
          }
        },
        "97249441b4ec40a2ba9f79dcd5580df4": {
          "model_module": "@jupyter-widgets/controls",
          "model_name": "DescriptionStyleModel",
          "model_module_version": "1.5.0",
          "state": {
            "_model_module": "@jupyter-widgets/controls",
            "_model_module_version": "1.5.0",
            "_model_name": "DescriptionStyleModel",
            "_view_count": null,
            "_view_module": "@jupyter-widgets/base",
            "_view_module_version": "1.2.0",
            "_view_name": "StyleView",
            "description_width": ""
          }
        },
        "b4ac42e2042040c1a1c9dafd6f5033b9": {
          "model_module": "@jupyter-widgets/controls",
          "model_name": "DropdownModel",
          "model_module_version": "1.5.0",
          "state": {
            "_dom_classes": [],
            "_model_module": "@jupyter-widgets/controls",
            "_model_module_version": "1.5.0",
            "_model_name": "DropdownModel",
            "_options_labels": [
              "None",
              "Standard Scaler",
              "Min-Max Scaler",
              "Robust Scaler"
            ],
            "_view_count": null,
            "_view_module": "@jupyter-widgets/controls",
            "_view_module_version": "1.5.0",
            "_view_name": "DropdownView",
            "description": "Preprocess:",
            "description_tooltip": null,
            "disabled": false,
            "index": 1,
            "layout": "IPY_MODEL_5dbd3769ee82418abcfdbbc5e4a50afe",
            "style": "IPY_MODEL_70e4c7d7971c4f07bf1b183d7f1ed89f"
          }
        },
        "5dbd3769ee82418abcfdbbc5e4a50afe": {
          "model_module": "@jupyter-widgets/base",
          "model_name": "LayoutModel",
          "model_module_version": "1.2.0",
          "state": {
            "_model_module": "@jupyter-widgets/base",
            "_model_module_version": "1.2.0",
            "_model_name": "LayoutModel",
            "_view_count": null,
            "_view_module": "@jupyter-widgets/base",
            "_view_module_version": "1.2.0",
            "_view_name": "LayoutView",
            "align_content": null,
            "align_items": null,
            "align_self": null,
            "border": null,
            "bottom": null,
            "display": null,
            "flex": null,
            "flex_flow": null,
            "grid_area": null,
            "grid_auto_columns": null,
            "grid_auto_flow": null,
            "grid_auto_rows": null,
            "grid_column": null,
            "grid_gap": null,
            "grid_row": null,
            "grid_template_areas": null,
            "grid_template_columns": null,
            "grid_template_rows": null,
            "height": null,
            "justify_content": null,
            "justify_items": null,
            "left": null,
            "margin": null,
            "max_height": null,
            "max_width": null,
            "min_height": null,
            "min_width": null,
            "object_fit": null,
            "object_position": null,
            "order": null,
            "overflow": null,
            "overflow_x": null,
            "overflow_y": null,
            "padding": null,
            "right": null,
            "top": null,
            "visibility": null,
            "width": null
          }
        },
        "70e4c7d7971c4f07bf1b183d7f1ed89f": {
          "model_module": "@jupyter-widgets/controls",
          "model_name": "DescriptionStyleModel",
          "model_module_version": "1.5.0",
          "state": {
            "_model_module": "@jupyter-widgets/controls",
            "_model_module_version": "1.5.0",
            "_model_name": "DescriptionStyleModel",
            "_view_count": null,
            "_view_module": "@jupyter-widgets/base",
            "_view_module_version": "1.2.0",
            "_view_name": "StyleView",
            "description_width": ""
          }
        },
        "cc00996ac1ea474bb3c417e3dce64645": {
          "model_module": "@jupyter-widgets/controls",
          "model_name": "ButtonModel",
          "model_module_version": "1.5.0",
          "state": {
            "_dom_classes": [],
            "_model_module": "@jupyter-widgets/controls",
            "_model_module_version": "1.5.0",
            "_model_name": "ButtonModel",
            "_view_count": null,
            "_view_module": "@jupyter-widgets/controls",
            "_view_module_version": "1.5.0",
            "_view_name": "ButtonView",
            "button_style": "",
            "description": "Visualize Data",
            "disabled": false,
            "icon": "",
            "layout": "IPY_MODEL_51d5a429484f4b6fb0eb18354dfdecf6",
            "style": "IPY_MODEL_a92b9e8174704a088503f28a8de3a4c0",
            "tooltip": ""
          }
        },
        "51d5a429484f4b6fb0eb18354dfdecf6": {
          "model_module": "@jupyter-widgets/base",
          "model_name": "LayoutModel",
          "model_module_version": "1.2.0",
          "state": {
            "_model_module": "@jupyter-widgets/base",
            "_model_module_version": "1.2.0",
            "_model_name": "LayoutModel",
            "_view_count": null,
            "_view_module": "@jupyter-widgets/base",
            "_view_module_version": "1.2.0",
            "_view_name": "LayoutView",
            "align_content": null,
            "align_items": null,
            "align_self": null,
            "border": null,
            "bottom": null,
            "display": null,
            "flex": null,
            "flex_flow": null,
            "grid_area": null,
            "grid_auto_columns": null,
            "grid_auto_flow": null,
            "grid_auto_rows": null,
            "grid_column": null,
            "grid_gap": null,
            "grid_row": null,
            "grid_template_areas": null,
            "grid_template_columns": null,
            "grid_template_rows": null,
            "height": null,
            "justify_content": null,
            "justify_items": null,
            "left": null,
            "margin": null,
            "max_height": null,
            "max_width": null,
            "min_height": null,
            "min_width": null,
            "object_fit": null,
            "object_position": null,
            "order": null,
            "overflow": null,
            "overflow_x": null,
            "overflow_y": null,
            "padding": null,
            "right": null,
            "top": null,
            "visibility": null,
            "width": null
          }
        },
        "a92b9e8174704a088503f28a8de3a4c0": {
          "model_module": "@jupyter-widgets/controls",
          "model_name": "ButtonStyleModel",
          "model_module_version": "1.5.0",
          "state": {
            "_model_module": "@jupyter-widgets/controls",
            "_model_module_version": "1.5.0",
            "_model_name": "ButtonStyleModel",
            "_view_count": null,
            "_view_module": "@jupyter-widgets/base",
            "_view_module_version": "1.2.0",
            "_view_name": "StyleView",
            "button_color": null,
            "font_weight": ""
          }
        },
        "55983441f86c486a9ab921fef3bca265": {
          "model_module": "@jupyter-widgets/controls",
          "model_name": "DropdownModel",
          "model_module_version": "1.5.0",
          "state": {
            "_dom_classes": [],
            "_model_module": "@jupyter-widgets/controls",
            "_model_module_version": "1.5.0",
            "_model_name": "DropdownModel",
            "_options_labels": [
              "Linear Regression",
              "Polynomial Regression"
            ],
            "_view_count": null,
            "_view_module": "@jupyter-widgets/controls",
            "_view_module_version": "1.5.0",
            "_view_name": "DropdownView",
            "description": "Regression Type:",
            "description_tooltip": null,
            "disabled": false,
            "index": 1,
            "layout": "IPY_MODEL_1b8eecc6b96640dc861785f066b4cf19",
            "style": "IPY_MODEL_dc0d7786c3ca4782b8c4c5cffc4f6934"
          }
        },
        "1b8eecc6b96640dc861785f066b4cf19": {
          "model_module": "@jupyter-widgets/base",
          "model_name": "LayoutModel",
          "model_module_version": "1.2.0",
          "state": {
            "_model_module": "@jupyter-widgets/base",
            "_model_module_version": "1.2.0",
            "_model_name": "LayoutModel",
            "_view_count": null,
            "_view_module": "@jupyter-widgets/base",
            "_view_module_version": "1.2.0",
            "_view_name": "LayoutView",
            "align_content": null,
            "align_items": null,
            "align_self": null,
            "border": null,
            "bottom": null,
            "display": null,
            "flex": null,
            "flex_flow": null,
            "grid_area": null,
            "grid_auto_columns": null,
            "grid_auto_flow": null,
            "grid_auto_rows": null,
            "grid_column": null,
            "grid_gap": null,
            "grid_row": null,
            "grid_template_areas": null,
            "grid_template_columns": null,
            "grid_template_rows": null,
            "height": null,
            "justify_content": null,
            "justify_items": null,
            "left": null,
            "margin": null,
            "max_height": null,
            "max_width": null,
            "min_height": null,
            "min_width": null,
            "object_fit": null,
            "object_position": null,
            "order": null,
            "overflow": null,
            "overflow_x": null,
            "overflow_y": null,
            "padding": null,
            "right": null,
            "top": null,
            "visibility": null,
            "width": null
          }
        },
        "dc0d7786c3ca4782b8c4c5cffc4f6934": {
          "model_module": "@jupyter-widgets/controls",
          "model_name": "DescriptionStyleModel",
          "model_module_version": "1.5.0",
          "state": {
            "_model_module": "@jupyter-widgets/controls",
            "_model_module_version": "1.5.0",
            "_model_name": "DescriptionStyleModel",
            "_view_count": null,
            "_view_module": "@jupyter-widgets/base",
            "_view_module_version": "1.2.0",
            "_view_name": "StyleView",
            "description_width": ""
          }
        },
        "293ff7adc23b44469f0b1e3932385459": {
          "model_module": "@jupyter-widgets/controls",
          "model_name": "IntTextModel",
          "model_module_version": "1.5.0",
          "state": {
            "_dom_classes": [],
            "_model_module": "@jupyter-widgets/controls",
            "_model_module_version": "1.5.0",
            "_model_name": "IntTextModel",
            "_view_count": null,
            "_view_module": "@jupyter-widgets/controls",
            "_view_module_version": "1.5.0",
            "_view_name": "IntTextView",
            "continuous_update": false,
            "description": "Degree:",
            "description_tooltip": null,
            "disabled": false,
            "layout": "IPY_MODEL_0e4d9ca09349457ba6a72a4b8252e6fc",
            "step": 1,
            "style": "IPY_MODEL_32f95642ec524721833c6e1257c98c8e",
            "value": 2
          }
        },
        "0e4d9ca09349457ba6a72a4b8252e6fc": {
          "model_module": "@jupyter-widgets/base",
          "model_name": "LayoutModel",
          "model_module_version": "1.2.0",
          "state": {
            "_model_module": "@jupyter-widgets/base",
            "_model_module_version": "1.2.0",
            "_model_name": "LayoutModel",
            "_view_count": null,
            "_view_module": "@jupyter-widgets/base",
            "_view_module_version": "1.2.0",
            "_view_name": "LayoutView",
            "align_content": null,
            "align_items": null,
            "align_self": null,
            "border": null,
            "bottom": null,
            "display": null,
            "flex": null,
            "flex_flow": null,
            "grid_area": null,
            "grid_auto_columns": null,
            "grid_auto_flow": null,
            "grid_auto_rows": null,
            "grid_column": null,
            "grid_gap": null,
            "grid_row": null,
            "grid_template_areas": null,
            "grid_template_columns": null,
            "grid_template_rows": null,
            "height": null,
            "justify_content": null,
            "justify_items": null,
            "left": null,
            "margin": null,
            "max_height": null,
            "max_width": null,
            "min_height": null,
            "min_width": null,
            "object_fit": null,
            "object_position": null,
            "order": null,
            "overflow": null,
            "overflow_x": null,
            "overflow_y": null,
            "padding": null,
            "right": null,
            "top": null,
            "visibility": null,
            "width": null
          }
        },
        "32f95642ec524721833c6e1257c98c8e": {
          "model_module": "@jupyter-widgets/controls",
          "model_name": "DescriptionStyleModel",
          "model_module_version": "1.5.0",
          "state": {
            "_model_module": "@jupyter-widgets/controls",
            "_model_module_version": "1.5.0",
            "_model_name": "DescriptionStyleModel",
            "_view_count": null,
            "_view_module": "@jupyter-widgets/base",
            "_view_module_version": "1.2.0",
            "_view_name": "StyleView",
            "description_width": ""
          }
        },
        "8212f844ed334b809f393f838c69be88": {
          "model_module": "@jupyter-widgets/controls",
          "model_name": "ButtonModel",
          "model_module_version": "1.5.0",
          "state": {
            "_dom_classes": [],
            "_model_module": "@jupyter-widgets/controls",
            "_model_module_version": "1.5.0",
            "_model_name": "ButtonModel",
            "_view_count": null,
            "_view_module": "@jupyter-widgets/controls",
            "_view_module_version": "1.5.0",
            "_view_name": "ButtonView",
            "button_style": "",
            "description": "Perform Regression",
            "disabled": false,
            "icon": "",
            "layout": "IPY_MODEL_0fa0c382d5214a0d829b8cdfa3a3df12",
            "style": "IPY_MODEL_112999f0676442aba737a16136a07c10",
            "tooltip": ""
          }
        },
        "0fa0c382d5214a0d829b8cdfa3a3df12": {
          "model_module": "@jupyter-widgets/base",
          "model_name": "LayoutModel",
          "model_module_version": "1.2.0",
          "state": {
            "_model_module": "@jupyter-widgets/base",
            "_model_module_version": "1.2.0",
            "_model_name": "LayoutModel",
            "_view_count": null,
            "_view_module": "@jupyter-widgets/base",
            "_view_module_version": "1.2.0",
            "_view_name": "LayoutView",
            "align_content": null,
            "align_items": null,
            "align_self": null,
            "border": null,
            "bottom": null,
            "display": null,
            "flex": null,
            "flex_flow": null,
            "grid_area": null,
            "grid_auto_columns": null,
            "grid_auto_flow": null,
            "grid_auto_rows": null,
            "grid_column": null,
            "grid_gap": null,
            "grid_row": null,
            "grid_template_areas": null,
            "grid_template_columns": null,
            "grid_template_rows": null,
            "height": null,
            "justify_content": null,
            "justify_items": null,
            "left": null,
            "margin": null,
            "max_height": null,
            "max_width": null,
            "min_height": null,
            "min_width": null,
            "object_fit": null,
            "object_position": null,
            "order": null,
            "overflow": null,
            "overflow_x": null,
            "overflow_y": null,
            "padding": null,
            "right": null,
            "top": null,
            "visibility": null,
            "width": null
          }
        },
        "112999f0676442aba737a16136a07c10": {
          "model_module": "@jupyter-widgets/controls",
          "model_name": "ButtonStyleModel",
          "model_module_version": "1.5.0",
          "state": {
            "_model_module": "@jupyter-widgets/controls",
            "_model_module_version": "1.5.0",
            "_model_name": "ButtonStyleModel",
            "_view_count": null,
            "_view_module": "@jupyter-widgets/base",
            "_view_module_version": "1.2.0",
            "_view_name": "StyleView",
            "button_color": null,
            "font_weight": ""
          }
        },
        "f15315ab426b4100bc75f6aac43de199": {
          "model_module": "@jupyter-widgets/controls",
          "model_name": "FloatTextModel",
          "model_module_version": "1.5.0",
          "state": {
            "_dom_classes": [],
            "_model_module": "@jupyter-widgets/controls",
            "_model_module_version": "1.5.0",
            "_model_name": "FloatTextModel",
            "_view_count": null,
            "_view_module": "@jupyter-widgets/controls",
            "_view_module_version": "1.5.0",
            "_view_name": "FloatTextView",
            "continuous_update": false,
            "description": "Input Value:",
            "description_tooltip": null,
            "disabled": false,
            "layout": "IPY_MODEL_899e29f06e8b4d148063fb5999dd88cb",
            "step": null,
            "style": "IPY_MODEL_f940f6d25d134c7a97bffadea8bc7761",
            "value": 22.2
          }
        },
        "899e29f06e8b4d148063fb5999dd88cb": {
          "model_module": "@jupyter-widgets/base",
          "model_name": "LayoutModel",
          "model_module_version": "1.2.0",
          "state": {
            "_model_module": "@jupyter-widgets/base",
            "_model_module_version": "1.2.0",
            "_model_name": "LayoutModel",
            "_view_count": null,
            "_view_module": "@jupyter-widgets/base",
            "_view_module_version": "1.2.0",
            "_view_name": "LayoutView",
            "align_content": null,
            "align_items": null,
            "align_self": null,
            "border": null,
            "bottom": null,
            "display": null,
            "flex": null,
            "flex_flow": null,
            "grid_area": null,
            "grid_auto_columns": null,
            "grid_auto_flow": null,
            "grid_auto_rows": null,
            "grid_column": null,
            "grid_gap": null,
            "grid_row": null,
            "grid_template_areas": null,
            "grid_template_columns": null,
            "grid_template_rows": null,
            "height": null,
            "justify_content": null,
            "justify_items": null,
            "left": null,
            "margin": null,
            "max_height": null,
            "max_width": null,
            "min_height": null,
            "min_width": null,
            "object_fit": null,
            "object_position": null,
            "order": null,
            "overflow": null,
            "overflow_x": null,
            "overflow_y": null,
            "padding": null,
            "right": null,
            "top": null,
            "visibility": null,
            "width": null
          }
        },
        "f940f6d25d134c7a97bffadea8bc7761": {
          "model_module": "@jupyter-widgets/controls",
          "model_name": "DescriptionStyleModel",
          "model_module_version": "1.5.0",
          "state": {
            "_model_module": "@jupyter-widgets/controls",
            "_model_module_version": "1.5.0",
            "_model_name": "DescriptionStyleModel",
            "_view_count": null,
            "_view_module": "@jupyter-widgets/base",
            "_view_module_version": "1.2.0",
            "_view_name": "StyleView",
            "description_width": ""
          }
        },
        "b7cb8e05eba746d7ab6537d986fd7eba": {
          "model_module": "@jupyter-widgets/controls",
          "model_name": "ButtonModel",
          "model_module_version": "1.5.0",
          "state": {
            "_dom_classes": [],
            "_model_module": "@jupyter-widgets/controls",
            "_model_module_version": "1.5.0",
            "_model_name": "ButtonModel",
            "_view_count": null,
            "_view_module": "@jupyter-widgets/controls",
            "_view_module_version": "1.5.0",
            "_view_name": "ButtonView",
            "button_style": "",
            "description": "Make Prediction",
            "disabled": false,
            "icon": "",
            "layout": "IPY_MODEL_e5d77270b381450eb5d2c73f4d6c695d",
            "style": "IPY_MODEL_87758dbb28ba43f1b7867360ae2e7dc1",
            "tooltip": ""
          }
        },
        "e5d77270b381450eb5d2c73f4d6c695d": {
          "model_module": "@jupyter-widgets/base",
          "model_name": "LayoutModel",
          "model_module_version": "1.2.0",
          "state": {
            "_model_module": "@jupyter-widgets/base",
            "_model_module_version": "1.2.0",
            "_model_name": "LayoutModel",
            "_view_count": null,
            "_view_module": "@jupyter-widgets/base",
            "_view_module_version": "1.2.0",
            "_view_name": "LayoutView",
            "align_content": null,
            "align_items": null,
            "align_self": null,
            "border": null,
            "bottom": null,
            "display": null,
            "flex": null,
            "flex_flow": null,
            "grid_area": null,
            "grid_auto_columns": null,
            "grid_auto_flow": null,
            "grid_auto_rows": null,
            "grid_column": null,
            "grid_gap": null,
            "grid_row": null,
            "grid_template_areas": null,
            "grid_template_columns": null,
            "grid_template_rows": null,
            "height": null,
            "justify_content": null,
            "justify_items": null,
            "left": null,
            "margin": null,
            "max_height": null,
            "max_width": null,
            "min_height": null,
            "min_width": null,
            "object_fit": null,
            "object_position": null,
            "order": null,
            "overflow": null,
            "overflow_x": null,
            "overflow_y": null,
            "padding": null,
            "right": null,
            "top": null,
            "visibility": null,
            "width": null
          }
        },
        "87758dbb28ba43f1b7867360ae2e7dc1": {
          "model_module": "@jupyter-widgets/controls",
          "model_name": "ButtonStyleModel",
          "model_module_version": "1.5.0",
          "state": {
            "_model_module": "@jupyter-widgets/controls",
            "_model_module_version": "1.5.0",
            "_model_name": "ButtonStyleModel",
            "_view_count": null,
            "_view_module": "@jupyter-widgets/base",
            "_view_module_version": "1.2.0",
            "_view_name": "StyleView",
            "button_color": null,
            "font_weight": ""
          }
        },
        "40cc0f68b69e48538b80fdc857ce9c79": {
          "model_module": "@jupyter-widgets/controls",
          "model_name": "ButtonModel",
          "model_module_version": "1.5.0",
          "state": {
            "_dom_classes": [],
            "_model_module": "@jupyter-widgets/controls",
            "_model_module_version": "1.5.0",
            "_model_name": "ButtonModel",
            "_view_count": null,
            "_view_module": "@jupyter-widgets/controls",
            "_view_module_version": "1.5.0",
            "_view_name": "ButtonView",
            "button_style": "",
            "description": "Display Dataset Info",
            "disabled": false,
            "icon": "",
            "layout": "IPY_MODEL_be954e22b3014353b2982de894441d67",
            "style": "IPY_MODEL_59b4e008572249338f608d7bbfa0fb26",
            "tooltip": ""
          }
        },
        "be954e22b3014353b2982de894441d67": {
          "model_module": "@jupyter-widgets/base",
          "model_name": "LayoutModel",
          "model_module_version": "1.2.0",
          "state": {
            "_model_module": "@jupyter-widgets/base",
            "_model_module_version": "1.2.0",
            "_model_name": "LayoutModel",
            "_view_count": null,
            "_view_module": "@jupyter-widgets/base",
            "_view_module_version": "1.2.0",
            "_view_name": "LayoutView",
            "align_content": null,
            "align_items": null,
            "align_self": null,
            "border": null,
            "bottom": null,
            "display": null,
            "flex": null,
            "flex_flow": null,
            "grid_area": null,
            "grid_auto_columns": null,
            "grid_auto_flow": null,
            "grid_auto_rows": null,
            "grid_column": null,
            "grid_gap": null,
            "grid_row": null,
            "grid_template_areas": null,
            "grid_template_columns": null,
            "grid_template_rows": null,
            "height": null,
            "justify_content": null,
            "justify_items": null,
            "left": null,
            "margin": null,
            "max_height": null,
            "max_width": null,
            "min_height": null,
            "min_width": null,
            "object_fit": null,
            "object_position": null,
            "order": null,
            "overflow": null,
            "overflow_x": null,
            "overflow_y": null,
            "padding": null,
            "right": null,
            "top": null,
            "visibility": null,
            "width": null
          }
        },
        "59b4e008572249338f608d7bbfa0fb26": {
          "model_module": "@jupyter-widgets/controls",
          "model_name": "ButtonStyleModel",
          "model_module_version": "1.5.0",
          "state": {
            "_model_module": "@jupyter-widgets/controls",
            "_model_module_version": "1.5.0",
            "_model_name": "ButtonStyleModel",
            "_view_count": null,
            "_view_module": "@jupyter-widgets/base",
            "_view_module_version": "1.2.0",
            "_view_name": "StyleView",
            "button_color": null,
            "font_weight": ""
          }
        },
        "ac015fffeae34a74b5663c5d244d412c": {
          "model_module": "@jupyter-widgets/controls",
          "model_name": "DropdownModel",
          "model_module_version": "1.5.0",
          "state": {
            "_dom_classes": [],
            "_model_module": "@jupyter-widgets/controls",
            "_model_module_version": "1.5.0",
            "_model_name": "DropdownModel",
            "_options_labels": [
              "MedInc",
              "HouseAge",
              "AveRooms",
              "AveBedrms",
              "Population",
              "AveOccup",
              "Latitude",
              "Longitude"
            ],
            "_view_count": null,
            "_view_module": "@jupyter-widgets/controls",
            "_view_module_version": "1.5.0",
            "_view_name": "DropdownView",
            "description": "Feature:",
            "description_tooltip": null,
            "disabled": false,
            "index": 4,
            "layout": "IPY_MODEL_73369ecf21014c678e56064b46757d39",
            "style": "IPY_MODEL_168e77a6968f491d89a2bad18546470c"
          }
        },
        "73369ecf21014c678e56064b46757d39": {
          "model_module": "@jupyter-widgets/base",
          "model_name": "LayoutModel",
          "model_module_version": "1.2.0",
          "state": {
            "_model_module": "@jupyter-widgets/base",
            "_model_module_version": "1.2.0",
            "_model_name": "LayoutModel",
            "_view_count": null,
            "_view_module": "@jupyter-widgets/base",
            "_view_module_version": "1.2.0",
            "_view_name": "LayoutView",
            "align_content": null,
            "align_items": null,
            "align_self": null,
            "border": null,
            "bottom": null,
            "display": null,
            "flex": null,
            "flex_flow": null,
            "grid_area": null,
            "grid_auto_columns": null,
            "grid_auto_flow": null,
            "grid_auto_rows": null,
            "grid_column": null,
            "grid_gap": null,
            "grid_row": null,
            "grid_template_areas": null,
            "grid_template_columns": null,
            "grid_template_rows": null,
            "height": null,
            "justify_content": null,
            "justify_items": null,
            "left": null,
            "margin": null,
            "max_height": null,
            "max_width": null,
            "min_height": null,
            "min_width": null,
            "object_fit": null,
            "object_position": null,
            "order": null,
            "overflow": null,
            "overflow_x": null,
            "overflow_y": null,
            "padding": null,
            "right": null,
            "top": null,
            "visibility": null,
            "width": null
          }
        },
        "168e77a6968f491d89a2bad18546470c": {
          "model_module": "@jupyter-widgets/controls",
          "model_name": "DescriptionStyleModel",
          "model_module_version": "1.5.0",
          "state": {
            "_model_module": "@jupyter-widgets/controls",
            "_model_module_version": "1.5.0",
            "_model_name": "DescriptionStyleModel",
            "_view_count": null,
            "_view_module": "@jupyter-widgets/base",
            "_view_module_version": "1.2.0",
            "_view_name": "StyleView",
            "description_width": ""
          }
        },
        "626e37b3d174426993f07ca2177dc308": {
          "model_module": "@jupyter-widgets/controls",
          "model_name": "DropdownModel",
          "model_module_version": "1.5.0",
          "state": {
            "_dom_classes": [],
            "_model_module": "@jupyter-widgets/controls",
            "_model_module_version": "1.5.0",
            "_model_name": "DropdownModel",
            "_options_labels": [
              "None",
              "Standard Scaler",
              "Min-Max Scaler",
              "Robust Scaler"
            ],
            "_view_count": null,
            "_view_module": "@jupyter-widgets/controls",
            "_view_module_version": "1.5.0",
            "_view_name": "DropdownView",
            "description": "Preprocess:",
            "description_tooltip": null,
            "disabled": false,
            "index": 0,
            "layout": "IPY_MODEL_60569cc8bdf943f19b5c02c81af28a4b",
            "style": "IPY_MODEL_31290d3abd6d4f649985a46327c96384"
          }
        },
        "60569cc8bdf943f19b5c02c81af28a4b": {
          "model_module": "@jupyter-widgets/base",
          "model_name": "LayoutModel",
          "model_module_version": "1.2.0",
          "state": {
            "_model_module": "@jupyter-widgets/base",
            "_model_module_version": "1.2.0",
            "_model_name": "LayoutModel",
            "_view_count": null,
            "_view_module": "@jupyter-widgets/base",
            "_view_module_version": "1.2.0",
            "_view_name": "LayoutView",
            "align_content": null,
            "align_items": null,
            "align_self": null,
            "border": null,
            "bottom": null,
            "display": null,
            "flex": null,
            "flex_flow": null,
            "grid_area": null,
            "grid_auto_columns": null,
            "grid_auto_flow": null,
            "grid_auto_rows": null,
            "grid_column": null,
            "grid_gap": null,
            "grid_row": null,
            "grid_template_areas": null,
            "grid_template_columns": null,
            "grid_template_rows": null,
            "height": null,
            "justify_content": null,
            "justify_items": null,
            "left": null,
            "margin": null,
            "max_height": null,
            "max_width": null,
            "min_height": null,
            "min_width": null,
            "object_fit": null,
            "object_position": null,
            "order": null,
            "overflow": null,
            "overflow_x": null,
            "overflow_y": null,
            "padding": null,
            "right": null,
            "top": null,
            "visibility": null,
            "width": null
          }
        },
        "31290d3abd6d4f649985a46327c96384": {
          "model_module": "@jupyter-widgets/controls",
          "model_name": "DescriptionStyleModel",
          "model_module_version": "1.5.0",
          "state": {
            "_model_module": "@jupyter-widgets/controls",
            "_model_module_version": "1.5.0",
            "_model_name": "DescriptionStyleModel",
            "_view_count": null,
            "_view_module": "@jupyter-widgets/base",
            "_view_module_version": "1.2.0",
            "_view_name": "StyleView",
            "description_width": ""
          }
        },
        "1f8a3f9d5f45457baec173e6f79912cc": {
          "model_module": "@jupyter-widgets/controls",
          "model_name": "ButtonModel",
          "model_module_version": "1.5.0",
          "state": {
            "_dom_classes": [],
            "_model_module": "@jupyter-widgets/controls",
            "_model_module_version": "1.5.0",
            "_model_name": "ButtonModel",
            "_view_count": null,
            "_view_module": "@jupyter-widgets/controls",
            "_view_module_version": "1.5.0",
            "_view_name": "ButtonView",
            "button_style": "",
            "description": "Visualize Data",
            "disabled": false,
            "icon": "",
            "layout": "IPY_MODEL_b718fd8262e642ba90587c5e48515796",
            "style": "IPY_MODEL_96740571c01a40018a82352f456e8968",
            "tooltip": ""
          }
        },
        "b718fd8262e642ba90587c5e48515796": {
          "model_module": "@jupyter-widgets/base",
          "model_name": "LayoutModel",
          "model_module_version": "1.2.0",
          "state": {
            "_model_module": "@jupyter-widgets/base",
            "_model_module_version": "1.2.0",
            "_model_name": "LayoutModel",
            "_view_count": null,
            "_view_module": "@jupyter-widgets/base",
            "_view_module_version": "1.2.0",
            "_view_name": "LayoutView",
            "align_content": null,
            "align_items": null,
            "align_self": null,
            "border": null,
            "bottom": null,
            "display": null,
            "flex": null,
            "flex_flow": null,
            "grid_area": null,
            "grid_auto_columns": null,
            "grid_auto_flow": null,
            "grid_auto_rows": null,
            "grid_column": null,
            "grid_gap": null,
            "grid_row": null,
            "grid_template_areas": null,
            "grid_template_columns": null,
            "grid_template_rows": null,
            "height": null,
            "justify_content": null,
            "justify_items": null,
            "left": null,
            "margin": null,
            "max_height": null,
            "max_width": null,
            "min_height": null,
            "min_width": null,
            "object_fit": null,
            "object_position": null,
            "order": null,
            "overflow": null,
            "overflow_x": null,
            "overflow_y": null,
            "padding": null,
            "right": null,
            "top": null,
            "visibility": null,
            "width": null
          }
        },
        "96740571c01a40018a82352f456e8968": {
          "model_module": "@jupyter-widgets/controls",
          "model_name": "ButtonStyleModel",
          "model_module_version": "1.5.0",
          "state": {
            "_model_module": "@jupyter-widgets/controls",
            "_model_module_version": "1.5.0",
            "_model_name": "ButtonStyleModel",
            "_view_count": null,
            "_view_module": "@jupyter-widgets/base",
            "_view_module_version": "1.2.0",
            "_view_name": "StyleView",
            "button_color": null,
            "font_weight": ""
          }
        },
        "6b254ec8ca134eea9a8234ec175cb9ee": {
          "model_module": "@jupyter-widgets/controls",
          "model_name": "DropdownModel",
          "model_module_version": "1.5.0",
          "state": {
            "_dom_classes": [],
            "_model_module": "@jupyter-widgets/controls",
            "_model_module_version": "1.5.0",
            "_model_name": "DropdownModel",
            "_options_labels": [
              "Ridge",
              "Lasso",
              "Elastic Net"
            ],
            "_view_count": null,
            "_view_module": "@jupyter-widgets/controls",
            "_view_module_version": "1.5.0",
            "_view_name": "DropdownView",
            "description": "Method:",
            "description_tooltip": null,
            "disabled": false,
            "index": 0,
            "layout": "IPY_MODEL_bc3f25750aaa4cdfbdb7d74d1bbd55a2",
            "style": "IPY_MODEL_fb95a0733e184960b0244e3b4bf8ce5c"
          }
        },
        "bc3f25750aaa4cdfbdb7d74d1bbd55a2": {
          "model_module": "@jupyter-widgets/base",
          "model_name": "LayoutModel",
          "model_module_version": "1.2.0",
          "state": {
            "_model_module": "@jupyter-widgets/base",
            "_model_module_version": "1.2.0",
            "_model_name": "LayoutModel",
            "_view_count": null,
            "_view_module": "@jupyter-widgets/base",
            "_view_module_version": "1.2.0",
            "_view_name": "LayoutView",
            "align_content": null,
            "align_items": null,
            "align_self": null,
            "border": null,
            "bottom": null,
            "display": null,
            "flex": null,
            "flex_flow": null,
            "grid_area": null,
            "grid_auto_columns": null,
            "grid_auto_flow": null,
            "grid_auto_rows": null,
            "grid_column": null,
            "grid_gap": null,
            "grid_row": null,
            "grid_template_areas": null,
            "grid_template_columns": null,
            "grid_template_rows": null,
            "height": null,
            "justify_content": null,
            "justify_items": null,
            "left": null,
            "margin": null,
            "max_height": null,
            "max_width": null,
            "min_height": null,
            "min_width": null,
            "object_fit": null,
            "object_position": null,
            "order": null,
            "overflow": null,
            "overflow_x": null,
            "overflow_y": null,
            "padding": null,
            "right": null,
            "top": null,
            "visibility": null,
            "width": null
          }
        },
        "fb95a0733e184960b0244e3b4bf8ce5c": {
          "model_module": "@jupyter-widgets/controls",
          "model_name": "DescriptionStyleModel",
          "model_module_version": "1.5.0",
          "state": {
            "_model_module": "@jupyter-widgets/controls",
            "_model_module_version": "1.5.0",
            "_model_name": "DescriptionStyleModel",
            "_view_count": null,
            "_view_module": "@jupyter-widgets/base",
            "_view_module_version": "1.2.0",
            "_view_name": "StyleView",
            "description_width": ""
          }
        },
        "04b182fd209643a4b754e4c9681279b2": {
          "model_module": "@jupyter-widgets/controls",
          "model_name": "FloatTextModel",
          "model_module_version": "1.5.0",
          "state": {
            "_dom_classes": [],
            "_model_module": "@jupyter-widgets/controls",
            "_model_module_version": "1.5.0",
            "_model_name": "FloatTextModel",
            "_view_count": null,
            "_view_module": "@jupyter-widgets/controls",
            "_view_module_version": "1.5.0",
            "_view_name": "FloatTextView",
            "continuous_update": false,
            "description": "Alpha:",
            "description_tooltip": null,
            "disabled": false,
            "layout": "IPY_MODEL_fd170dbeaae14523b01bb761a7a47a8a",
            "step": null,
            "style": "IPY_MODEL_61fbda12b622464294a03c24fefe14ac",
            "value": 2
          }
        },
        "fd170dbeaae14523b01bb761a7a47a8a": {
          "model_module": "@jupyter-widgets/base",
          "model_name": "LayoutModel",
          "model_module_version": "1.2.0",
          "state": {
            "_model_module": "@jupyter-widgets/base",
            "_model_module_version": "1.2.0",
            "_model_name": "LayoutModel",
            "_view_count": null,
            "_view_module": "@jupyter-widgets/base",
            "_view_module_version": "1.2.0",
            "_view_name": "LayoutView",
            "align_content": null,
            "align_items": null,
            "align_self": null,
            "border": null,
            "bottom": null,
            "display": null,
            "flex": null,
            "flex_flow": null,
            "grid_area": null,
            "grid_auto_columns": null,
            "grid_auto_flow": null,
            "grid_auto_rows": null,
            "grid_column": null,
            "grid_gap": null,
            "grid_row": null,
            "grid_template_areas": null,
            "grid_template_columns": null,
            "grid_template_rows": null,
            "height": null,
            "justify_content": null,
            "justify_items": null,
            "left": null,
            "margin": null,
            "max_height": null,
            "max_width": null,
            "min_height": null,
            "min_width": null,
            "object_fit": null,
            "object_position": null,
            "order": null,
            "overflow": null,
            "overflow_x": null,
            "overflow_y": null,
            "padding": null,
            "right": null,
            "top": null,
            "visibility": null,
            "width": null
          }
        },
        "61fbda12b622464294a03c24fefe14ac": {
          "model_module": "@jupyter-widgets/controls",
          "model_name": "DescriptionStyleModel",
          "model_module_version": "1.5.0",
          "state": {
            "_model_module": "@jupyter-widgets/controls",
            "_model_module_version": "1.5.0",
            "_model_name": "DescriptionStyleModel",
            "_view_count": null,
            "_view_module": "@jupyter-widgets/base",
            "_view_module_version": "1.2.0",
            "_view_name": "StyleView",
            "description_width": ""
          }
        },
        "587ee23233024f8ea7d9f23d6fb70110": {
          "model_module": "@jupyter-widgets/controls",
          "model_name": "ButtonModel",
          "model_module_version": "1.5.0",
          "state": {
            "_dom_classes": [],
            "_model_module": "@jupyter-widgets/controls",
            "_model_module_version": "1.5.0",
            "_model_name": "ButtonModel",
            "_view_count": null,
            "_view_module": "@jupyter-widgets/controls",
            "_view_module_version": "1.5.0",
            "_view_name": "ButtonView",
            "button_style": "",
            "description": "Perform Regression",
            "disabled": false,
            "icon": "",
            "layout": "IPY_MODEL_76e7eda501cc463d9569932cd748e78f",
            "style": "IPY_MODEL_2ac94c2da7e9472a9b62a9b231e85ecf",
            "tooltip": ""
          }
        },
        "76e7eda501cc463d9569932cd748e78f": {
          "model_module": "@jupyter-widgets/base",
          "model_name": "LayoutModel",
          "model_module_version": "1.2.0",
          "state": {
            "_model_module": "@jupyter-widgets/base",
            "_model_module_version": "1.2.0",
            "_model_name": "LayoutModel",
            "_view_count": null,
            "_view_module": "@jupyter-widgets/base",
            "_view_module_version": "1.2.0",
            "_view_name": "LayoutView",
            "align_content": null,
            "align_items": null,
            "align_self": null,
            "border": null,
            "bottom": null,
            "display": null,
            "flex": null,
            "flex_flow": null,
            "grid_area": null,
            "grid_auto_columns": null,
            "grid_auto_flow": null,
            "grid_auto_rows": null,
            "grid_column": null,
            "grid_gap": null,
            "grid_row": null,
            "grid_template_areas": null,
            "grid_template_columns": null,
            "grid_template_rows": null,
            "height": null,
            "justify_content": null,
            "justify_items": null,
            "left": null,
            "margin": null,
            "max_height": null,
            "max_width": null,
            "min_height": null,
            "min_width": null,
            "object_fit": null,
            "object_position": null,
            "order": null,
            "overflow": null,
            "overflow_x": null,
            "overflow_y": null,
            "padding": null,
            "right": null,
            "top": null,
            "visibility": null,
            "width": null
          }
        },
        "2ac94c2da7e9472a9b62a9b231e85ecf": {
          "model_module": "@jupyter-widgets/controls",
          "model_name": "ButtonStyleModel",
          "model_module_version": "1.5.0",
          "state": {
            "_model_module": "@jupyter-widgets/controls",
            "_model_module_version": "1.5.0",
            "_model_name": "ButtonStyleModel",
            "_view_count": null,
            "_view_module": "@jupyter-widgets/base",
            "_view_module_version": "1.2.0",
            "_view_name": "StyleView",
            "button_color": null,
            "font_weight": ""
          }
        },
        "b2a7b6d8f0c64533ae6c5cd1c1aed342": {
          "model_module": "@jupyter-widgets/controls",
          "model_name": "FloatTextModel",
          "model_module_version": "1.5.0",
          "state": {
            "_dom_classes": [],
            "_model_module": "@jupyter-widgets/controls",
            "_model_module_version": "1.5.0",
            "_model_name": "FloatTextModel",
            "_view_count": null,
            "_view_module": "@jupyter-widgets/controls",
            "_view_module_version": "1.5.0",
            "_view_name": "FloatTextView",
            "continuous_update": false,
            "description": "Input Value:",
            "description_tooltip": null,
            "disabled": false,
            "layout": "IPY_MODEL_526d6c2be123491ea71f90476ac4afc4",
            "step": null,
            "style": "IPY_MODEL_70fcf1426a8444cc9c47f53bfc6a4cd6",
            "value": 0
          }
        },
        "526d6c2be123491ea71f90476ac4afc4": {
          "model_module": "@jupyter-widgets/base",
          "model_name": "LayoutModel",
          "model_module_version": "1.2.0",
          "state": {
            "_model_module": "@jupyter-widgets/base",
            "_model_module_version": "1.2.0",
            "_model_name": "LayoutModel",
            "_view_count": null,
            "_view_module": "@jupyter-widgets/base",
            "_view_module_version": "1.2.0",
            "_view_name": "LayoutView",
            "align_content": null,
            "align_items": null,
            "align_self": null,
            "border": null,
            "bottom": null,
            "display": null,
            "flex": null,
            "flex_flow": null,
            "grid_area": null,
            "grid_auto_columns": null,
            "grid_auto_flow": null,
            "grid_auto_rows": null,
            "grid_column": null,
            "grid_gap": null,
            "grid_row": null,
            "grid_template_areas": null,
            "grid_template_columns": null,
            "grid_template_rows": null,
            "height": null,
            "justify_content": null,
            "justify_items": null,
            "left": null,
            "margin": null,
            "max_height": null,
            "max_width": null,
            "min_height": null,
            "min_width": null,
            "object_fit": null,
            "object_position": null,
            "order": null,
            "overflow": null,
            "overflow_x": null,
            "overflow_y": null,
            "padding": null,
            "right": null,
            "top": null,
            "visibility": null,
            "width": null
          }
        },
        "70fcf1426a8444cc9c47f53bfc6a4cd6": {
          "model_module": "@jupyter-widgets/controls",
          "model_name": "DescriptionStyleModel",
          "model_module_version": "1.5.0",
          "state": {
            "_model_module": "@jupyter-widgets/controls",
            "_model_module_version": "1.5.0",
            "_model_name": "DescriptionStyleModel",
            "_view_count": null,
            "_view_module": "@jupyter-widgets/base",
            "_view_module_version": "1.2.0",
            "_view_name": "StyleView",
            "description_width": ""
          }
        },
        "c008b5aefdbc4607bbca8e46d519a881": {
          "model_module": "@jupyter-widgets/controls",
          "model_name": "ButtonModel",
          "model_module_version": "1.5.0",
          "state": {
            "_dom_classes": [],
            "_model_module": "@jupyter-widgets/controls",
            "_model_module_version": "1.5.0",
            "_model_name": "ButtonModel",
            "_view_count": null,
            "_view_module": "@jupyter-widgets/controls",
            "_view_module_version": "1.5.0",
            "_view_name": "ButtonView",
            "button_style": "",
            "description": "Make Prediction",
            "disabled": false,
            "icon": "",
            "layout": "IPY_MODEL_3f04c413b205495fa487a63952886643",
            "style": "IPY_MODEL_b478c01f5acc4f80be21b878d8431926",
            "tooltip": ""
          }
        },
        "3f04c413b205495fa487a63952886643": {
          "model_module": "@jupyter-widgets/base",
          "model_name": "LayoutModel",
          "model_module_version": "1.2.0",
          "state": {
            "_model_module": "@jupyter-widgets/base",
            "_model_module_version": "1.2.0",
            "_model_name": "LayoutModel",
            "_view_count": null,
            "_view_module": "@jupyter-widgets/base",
            "_view_module_version": "1.2.0",
            "_view_name": "LayoutView",
            "align_content": null,
            "align_items": null,
            "align_self": null,
            "border": null,
            "bottom": null,
            "display": null,
            "flex": null,
            "flex_flow": null,
            "grid_area": null,
            "grid_auto_columns": null,
            "grid_auto_flow": null,
            "grid_auto_rows": null,
            "grid_column": null,
            "grid_gap": null,
            "grid_row": null,
            "grid_template_areas": null,
            "grid_template_columns": null,
            "grid_template_rows": null,
            "height": null,
            "justify_content": null,
            "justify_items": null,
            "left": null,
            "margin": null,
            "max_height": null,
            "max_width": null,
            "min_height": null,
            "min_width": null,
            "object_fit": null,
            "object_position": null,
            "order": null,
            "overflow": null,
            "overflow_x": null,
            "overflow_y": null,
            "padding": null,
            "right": null,
            "top": null,
            "visibility": null,
            "width": null
          }
        },
        "b478c01f5acc4f80be21b878d8431926": {
          "model_module": "@jupyter-widgets/controls",
          "model_name": "ButtonStyleModel",
          "model_module_version": "1.5.0",
          "state": {
            "_model_module": "@jupyter-widgets/controls",
            "_model_module_version": "1.5.0",
            "_model_name": "ButtonStyleModel",
            "_view_count": null,
            "_view_module": "@jupyter-widgets/base",
            "_view_module_version": "1.2.0",
            "_view_name": "StyleView",
            "button_color": null,
            "font_weight": ""
          }
        }
      }
    }
  },
  "cells": [
    {
      "cell_type": "markdown",
      "source": [
        "# **BOOTCAMP @ GIKI (Content designed by Usama Arshad) WEEK 2**"
      ],
      "metadata": {
        "id": "UId6p4uF145X"
      }
    },
    {
      "cell_type": "markdown",
      "source": [
        "**Lab sessions you will conduct:**\n",
        "\n",
        "---\n",
        "\n",
        "\n",
        "\n",
        "*   Lab 6: Implementing SVM, Decision Trees, and Evaluation Metrics (Day 6)\n",
        "* Lab 7: Implementing Unsupervised Learning Algorithms (Day 7)\n",
        "* Lab 8: Feature Engineering and Model Selection Techniques (Day 8)\n",
        "* **Lab 9: Implementing Regression Models (Day 9)**\n",
        "* Lab 10: Implementing Classification Models (Day 10)"
      ],
      "metadata": {
        "id": "L04V2VOG180w"
      }
    },
    {
      "cell_type": "markdown",
      "source": [
        "### Linear Regression with Preprocessing: Theory and Implementation\n",
        "\n",
        "\n",
        "---\n",
        "\n",
        "\n",
        "#### Introduction\n",
        "Linear Regression is a fundamental machine learning algorithm used for predicting a continuous target variable based on one or more input features. It assumes a linear relationship between the input features and the target variable.\n",
        "\n",
        "#### California Housing Dataset\n",
        "The California Housing dataset is used in this example. It contains information about housing prices in California, with features such as the average number of rooms, population, median income, etc., and the target variable being the median house value.\n",
        "\n",
        "#### Steps Involved\n",
        "\n",
        "**Loading the Dataset:**\n",
        "The dataset is loaded using the `fetch_california_housing` function from the `scikit-learn` library and converted into a pandas DataFrame for easier handling.\n",
        "\n",
        "**Dataset Information:**\n",
        "\n",
        "- **Number of Instances**: The total number of data points in the dataset.\n",
        "- **Number of Features**: The number of input features used for prediction.\n",
        "- **Target Variable**: The variable we aim to predict, which in this case is the median house value (`MedHouseVal`).\n",
        "\n",
        "**Data Visualization:**\n",
        "\n",
        "- **Scatter Plot**: A scatter plot is used to visualize the relationship between the selected feature and the target variable. This helps in understanding how the feature influences the target.\n",
        "\n",
        "**Preprocessing:**\n",
        "\n",
        "- **Standard Scaler**: Scales the data so that it has a mean of 0 and a standard deviation of 1. Useful when the data has varying scales.\n",
        "- **Min-Max Scaler**: Scales the data to a fixed range, usually 0 to 1. Useful when the data needs to be normalized.\n",
        "- **Robust Scaler**: Scales the data using statistics that are robust to outliers. Useful when the data contains outliers.\n",
        "\n",
        "**Linear Regression:**\n",
        "\n",
        "- **Training the Model**: The model is trained on the training data. The relationship between the input feature and the target variable is learned.\n",
        "- **Evaluating the Model**: The model's performance is evaluated using metrics such as Mean Squared Error (MSE) and R-squared (R²) score.\n",
        "  - **MSE**: Measures the average squared difference between the actual and predicted values. Lower MSE indicates a better fit.\n",
        "  - **R² Score**: Indicates the proportion of the variance in the target variable that is predictable from the features. An R² score close to 1 indicates a better fit.\n",
        "\n",
        "**Visualization of the Model:**\n",
        "\n",
        "- **Regression Line on Training Data**: Shows how well the model fits the training data.\n",
        "- **Regression Line on Test Data**: Shows how well the model generalizes to unseen data.\n",
        "\n",
        "**Making Predictions:**\n",
        "\n",
        "The trained model is used to make predictions on new input values. If preprocessing was applied during training, the same preprocessing is applied to the input values before making predictions.\n",
        "\n",
        "---\n"
      ],
      "metadata": {
        "id": "3jzv77TG8uXa"
      }
    },
    {
      "cell_type": "code",
      "source": [
        "# Importing necessary libraries\n",
        "import numpy as np\n",
        "import pandas as pd\n",
        "import matplotlib.pyplot as plt\n",
        "from sklearn.datasets import fetch_california_housing\n",
        "from sklearn.model_selection import train_test_split\n",
        "from sklearn.linear_model import LinearRegression\n",
        "from sklearn.metrics import mean_squared_error, r2_score\n",
        "from sklearn.preprocessing import StandardScaler, MinMaxScaler, RobustScaler\n",
        "import ipywidgets as widgets\n",
        "from IPython.display import display, Markdown\n",
        "\n",
        "# Load the California Housing dataset from scikit-learn\n",
        "housing = fetch_california_housing()\n",
        "\n",
        "# Convert the dataset to a pandas DataFrame for easier handling\n",
        "data = pd.DataFrame(housing.data, columns=housing.feature_names)\n",
        "data['MedHouseVal'] = housing.target  # Add the target column (median house value) to the DataFrame\n",
        "\n",
        "# Function to display dataset information\n",
        "def display_data_info():\n",
        "    # Display the dataset information and structure\n",
        "    display(Markdown(\"### Dataset Information\"))\n",
        "    display(Markdown(\"The California Housing dataset contains information about housing prices in California.\"))\n",
        "    display(Markdown(f\"**Number of instances:** {data.shape[0]}\"))\n",
        "    display(Markdown(f\"**Number of features:** {data.shape[1] - 1}\"))\n",
        "    display(Markdown(f\"**Features:** {', '.join(housing.feature_names)}\"))\n",
        "    display(Markdown(\"**Target:** MedHouseVal (Median House Value)\"))\n",
        "    display(Markdown(\"### First 5 Rows of the Dataset\"))\n",
        "    display(data.head())  # Display the first 5 rows of the dataset\n",
        "\n",
        "# Function to visualize the dataset\n",
        "def visualize_data(feature, preprocess):\n",
        "    # Select the feature and the target from the dataset\n",
        "    X = data[[feature]].values  # Feature\n",
        "    y = data['MedHouseVal'].values  # Target\n",
        "\n",
        "    # Preprocess the feature if selected\n",
        "    if preprocess == 'Standard Scaler':\n",
        "        scaler = StandardScaler()\n",
        "        X = scaler.fit_transform(X)\n",
        "    elif preprocess == 'Min-Max Scaler':\n",
        "        scaler = MinMaxScaler()\n",
        "        X = scaler.fit_transform(X)\n",
        "    elif preprocess == 'Robust Scaler':\n",
        "        scaler = RobustScaler()\n",
        "        X = scaler.fit_transform(X)\n",
        "\n",
        "    # Create a scatter plot to visualize the relationship between the selected feature and the target\n",
        "    plt.scatter(X, y, color='blue', label='Data points')\n",
        "    plt.title(f'{feature} vs Median House Value')\n",
        "    plt.xlabel(feature)\n",
        "    plt.ylabel('Median House Value')\n",
        "    plt.legend()\n",
        "    plt.show()\n",
        "    # Display explanation of the visualization\n",
        "    display(Markdown(f\"### Visualization of {feature}\"))\n",
        "    display(Markdown(f\"This scatter plot shows the relationship between the selected feature **{feature}** and the target variable **Median House Value**. Each blue point represents a data instance from the dataset. If preprocessing was selected, the feature values have been scaled accordingly.\"))\n",
        "\n",
        "# Function to perform Linear Regression with preprocessing\n",
        "def perform_linear_regression(feature, preprocess):\n",
        "    # Select the feature and the target from the dataset\n",
        "    X = data[[feature]].values  # Feature\n",
        "    y = data['MedHouseVal'].values  # Target\n",
        "\n",
        "    # Preprocess the feature if selected\n",
        "    scaler = None\n",
        "    if preprocess == 'Standard Scaler':\n",
        "        scaler = StandardScaler()\n",
        "        X = scaler.fit_transform(X)\n",
        "    elif preprocess == 'Min-Max Scaler':\n",
        "        scaler = MinMaxScaler()\n",
        "        X = scaler.fit_transform(X)\n",
        "    elif preprocess == 'Robust Scaler':\n",
        "        scaler = RobustScaler()\n",
        "        X = scaler.fit_transform(X)\n",
        "\n",
        "    # Split the data into training and testing sets\n",
        "    X_train, X_test, y_train, y_test = train_test_split(X, y, test_size=0.2, random_state=0)\n",
        "\n",
        "    # Create a Linear Regression model\n",
        "    model = LinearRegression()\n",
        "\n",
        "    # Train the model on the training data\n",
        "    model.fit(X_train, y_train)\n",
        "\n",
        "    # Make predictions on the test set\n",
        "    y_pred = model.predict(X_test)\n",
        "\n",
        "    # Evaluate the model using Mean Squared Error (MSE) and R-squared (R²) score\n",
        "    mse = mean_squared_error(y_test, y_pred)\n",
        "    r2 = r2_score(y_test, y_pred)\n",
        "\n",
        "    # Display the evaluation metrics\n",
        "    display(Markdown(\"### Model Evaluation\"))\n",
        "    display(Markdown(f\"**Mean Squared Error:** {mse}\"))\n",
        "    display(Markdown(f\"**R^2 Score:** {r2}\"))\n",
        "    display(Markdown(\"The Mean Squared Error (MSE) measures the average squared difference between the actual and predicted values. A lower MSE indicates a better fit. The R² Score indicates the proportion of the variance in the target variable that is predictable from the features. An R² score close to 1 indicates a better fit.\"))\n",
        "\n",
        "    # Plot the regression line on the training data\n",
        "    plt.scatter(X_train, y_train, color='blue', label='Training data')\n",
        "    plt.plot(X_train, model.predict(X_train), color='red', label='Regression line')\n",
        "    plt.title('Linear Regression on Training Data')\n",
        "    plt.xlabel(feature)\n",
        "    plt.ylabel('Median House Value')\n",
        "    plt.legend()\n",
        "    plt.show()\n",
        "    display(Markdown(f\"### Linear Regression on Training Data\"))\n",
        "    display(Markdown(\"This plot shows the Linear Regression model fitted on the training data. The blue points represent the training data, and the red line represents the regression line fitted by the model.\"))\n",
        "\n",
        "    # Plot the regression line on the test data\n",
        "    plt.scatter(X_test, y_test, color='blue', label='Testing data')\n",
        "    plt.plot(X_test, y_pred, color='red', label='Regression line')\n",
        "    plt.title('Linear Regression on Test Data')\n",
        "    plt.xlabel(feature)\n",
        "    plt.ylabel('Median House Value')\n",
        "    plt.legend()\n",
        "    plt.show()\n",
        "    display(Markdown(f\"### Linear Regression on Test Data\"))\n",
        "    display(Markdown(\"This plot shows the Linear Regression model predictions on the test data. The blue points represent the test data, and the red line represents the regression line predicted by the model. Comparing this plot with the training data plot helps to assess the model's performance on unseen data.\"))\n",
        "\n",
        "    return model, scaler\n",
        "\n",
        "# Function to make predictions with new input values\n",
        "def make_predictions(model, scaler, feature, input_value):\n",
        "    # Preprocess the input value if a scaler is provided\n",
        "    if scaler:\n",
        "        input_value = scaler.transform(np.array([[input_value]]))\n",
        "\n",
        "    # Make prediction\n",
        "    prediction = model.predict(input_value)\n",
        "\n",
        "    # Display the prediction\n",
        "    display(Markdown(f\"### Prediction for {feature} = {input_value[0][0] if scaler else input_value[0]}\"))\n",
        "    display(Markdown(f\"**Predicted Median House Value:** {prediction[0]}\"))\n",
        "\n",
        "# Create a dropdown widget for selecting the feature to visualize and use for Linear Regression\n",
        "feature_dropdown = widgets.Dropdown(\n",
        "    options=housing.feature_names,\n",
        "    value='AveRooms',  # Default value\n",
        "    description='Feature:',\n",
        "    disabled=False,\n",
        ")\n",
        "\n",
        "# Create a dropdown widget for selecting the preprocessing method\n",
        "preprocess_dropdown = widgets.Dropdown(\n",
        "    options=['None', 'Standard Scaler', 'Min-Max Scaler', 'Robust Scaler'],\n",
        "    value='None',  # Default value\n",
        "    description='Preprocess:',\n",
        "    disabled=False,\n",
        ")\n",
        "\n",
        "# Create a float input widget for entering a new value to make predictions\n",
        "input_value = widgets.FloatText(\n",
        "    value=0.0,\n",
        "    description='Input Value:',\n",
        "    disabled=False,\n",
        ")\n",
        "\n",
        "# Create buttons for interactive actions\n",
        "display_data_button = widgets.Button(description=\"Display Dataset Info\")\n",
        "visualize_data_button = widgets.Button(description=\"Visualize Data\")\n",
        "perform_lr_button = widgets.Button(description=\"Perform Linear Regression\")\n",
        "predict_button = widgets.Button(description=\"Make Prediction\")\n",
        "\n",
        "# Display the button for showing dataset information\n",
        "display(display_data_button)\n",
        "# Attach the display_data_info function to the button click event\n",
        "display_data_button.on_click(lambda b: display_data_info())\n",
        "\n",
        "# Display the dropdowns and button for visualizing data\n",
        "display(feature_dropdown)\n",
        "display(preprocess_dropdown)\n",
        "display(visualize_data_button)\n",
        "# Attach the visualize_data function to the button click event\n",
        "visualize_data_button.on_click(lambda b: visualize_data(feature_dropdown.value, preprocess_dropdown.value))\n",
        "\n",
        "# Display the dropdowns and button for performing Linear Regression\n",
        "display(perform_lr_button)\n",
        "# Initialize variables for model and scaler\n",
        "model = None\n",
        "scaler = None\n",
        "# Attach the perform_linear_regression function to the button click event\n",
        "def perform_lr_action(b):\n",
        "    global model, scaler\n",
        "    model, scaler = perform_linear_regression(feature_dropdown.value, preprocess_dropdown.value)\n",
        "\n",
        "perform_lr_button.on_click(perform_lr_action)\n",
        "\n",
        "# Display the float input and button for making predictions\n",
        "display(input_value)\n",
        "display(predict_button)\n",
        "# Attach the make_predictions function to the button click event\n",
        "predict_button.on_click(lambda b: make_predictions(model, scaler, feature_dropdown.value, input_value.value))\n"
      ],
      "metadata": {
        "colab": {
          "base_uri": "https://localhost:8080/",
          "height": 239,
          "referenced_widgets": [
            "1d995a03872e464db72060bdff6d3014",
            "89a963b2cdf942a2a749be6f8157a24b",
            "1ad25089f57b4d96b486c32a05df4f97",
            "06396e7a796647be8991bc70712384da",
            "30ef90ec63024b0c8a4a2c02eb333d97",
            "463d825e64164c2395a493afb847357b",
            "bba1976cc3cb4c5a91c57c09b8a7dd09",
            "36803c69ff174c089de24f9d4ed1dec5",
            "3718b9eb9e2442b1b3c11733e5eee2e6",
            "4cb2fc6de8b64bc59638796328a78dbc",
            "6d993aeab92842d8ab32a114cd3c2029",
            "60544be09246411781e71f4441b97d6f",
            "da5b952ae5bc45af864a775d366d0281",
            "b43b411c86684d1daf9850b3c8863b99",
            "7b5aac13855a4d3a85f4e66d4ff850c9",
            "4f04d9eb99054e11851b871ff8993f2c",
            "56b50f1c26674b1694b71b5b8a9146d0",
            "f6a58e4cfe274fb8b1343c2ed254d651",
            "7f3217e960f74b0e9066eb5fa05d7ec4",
            "57cd1e87e19b4b4bbb8366c20a0e0423",
            "7dd30036a6ea4b07be5023fe641329a8"
          ]
        },
        "id": "dsJluDDs4NS0",
        "outputId": "40adb62d-572b-4586-8c99-f6efe3c6ac54"
      },
      "execution_count": 6,
      "outputs": [
        {
          "output_type": "display_data",
          "data": {
            "text/plain": [
              "Button(description='Display Dataset Info', style=ButtonStyle())"
            ],
            "application/vnd.jupyter.widget-view+json": {
              "version_major": 2,
              "version_minor": 0,
              "model_id": "1d995a03872e464db72060bdff6d3014"
            }
          },
          "metadata": {}
        },
        {
          "output_type": "display_data",
          "data": {
            "text/plain": [
              "Dropdown(description='Feature:', index=2, options=('MedInc', 'HouseAge', 'AveRooms', 'AveBedrms', 'Population'…"
            ],
            "application/vnd.jupyter.widget-view+json": {
              "version_major": 2,
              "version_minor": 0,
              "model_id": "06396e7a796647be8991bc70712384da"
            }
          },
          "metadata": {}
        },
        {
          "output_type": "display_data",
          "data": {
            "text/plain": [
              "Dropdown(description='Preprocess:', options=('None', 'Standard Scaler', 'Min-Max Scaler', 'Robust Scaler'), va…"
            ],
            "application/vnd.jupyter.widget-view+json": {
              "version_major": 2,
              "version_minor": 0,
              "model_id": "bba1976cc3cb4c5a91c57c09b8a7dd09"
            }
          },
          "metadata": {}
        },
        {
          "output_type": "display_data",
          "data": {
            "text/plain": [
              "Button(description='Visualize Data', style=ButtonStyle())"
            ],
            "application/vnd.jupyter.widget-view+json": {
              "version_major": 2,
              "version_minor": 0,
              "model_id": "4cb2fc6de8b64bc59638796328a78dbc"
            }
          },
          "metadata": {}
        },
        {
          "output_type": "display_data",
          "data": {
            "text/plain": [
              "Button(description='Perform Linear Regression', style=ButtonStyle())"
            ],
            "application/vnd.jupyter.widget-view+json": {
              "version_major": 2,
              "version_minor": 0,
              "model_id": "da5b952ae5bc45af864a775d366d0281"
            }
          },
          "metadata": {}
        },
        {
          "output_type": "display_data",
          "data": {
            "text/plain": [
              "FloatText(value=0.0, description='Input Value:')"
            ],
            "application/vnd.jupyter.widget-view+json": {
              "version_major": 2,
              "version_minor": 0,
              "model_id": "4f04d9eb99054e11851b871ff8993f2c"
            }
          },
          "metadata": {}
        },
        {
          "output_type": "display_data",
          "data": {
            "text/plain": [
              "Button(description='Make Prediction', style=ButtonStyle())"
            ],
            "application/vnd.jupyter.widget-view+json": {
              "version_major": 2,
              "version_minor": 0,
              "model_id": "7f3217e960f74b0e9066eb5fa05d7ec4"
            }
          },
          "metadata": {}
        }
      ]
    },
    {
      "cell_type": "markdown",
      "source": [
        "\n",
        "### Polynomial Regression: Theory and Implementation\n",
        "\n",
        "\n",
        "---\n",
        "\n",
        "\n",
        "\n",
        "#### Introduction\n",
        "Polynomial Regression is an extension of Linear Regression where the relationship between the independent variable (or variables) and the dependent variable is modeled as an nth degree polynomial. This allows for capturing more complex relationships that are not possible with a straight line.\n",
        "\n",
        "#### California Housing Dataset\n",
        "The California Housing dataset is used in this example. It contains information about housing prices in California, with features such as the average number of rooms, population, median income, etc., and the target variable being the median house value.\n",
        "\n",
        "#### Steps Involved\n",
        "\n",
        "**Loading the Dataset:**\n",
        "The dataset is loaded using the `fetch_california_housing` function from the `scikit-learn` library and converted into a pandas DataFrame for easier handling.\n",
        "\n",
        "**Dataset Information:**\n",
        "\n",
        "- **Number of Instances**: The total number of data points in the dataset.\n",
        "- **Number of Features**: The number of input features used for prediction.\n",
        "- **Target Variable**: The variable we aim to predict, which in this case is the median house value (`MedHouseVal`).\n",
        "\n",
        "**Data Visualization:**\n",
        "\n",
        "- **Scatter Plot**: A scatter plot is used to visualize the relationship between the selected feature and the target variable. This helps in understanding how the feature influences the target.\n",
        "\n",
        "**Preprocessing:**\n",
        "\n",
        "- **Standard Scaler**: Scales the data so that it has a mean of 0 and a standard deviation of 1. Useful when the data has varying scales.\n",
        "- **Min-Max Scaler**: Scales the data to a fixed range, usually 0 to 1. Useful when the data needs to be normalized.\n",
        "- **Robust Scaler**: Scales the data using statistics that are robust to outliers. Useful when the data contains outliers.\n",
        "\n",
        "**Polynomial Regression:**\n",
        "\n",
        "- **Degree**: The degree of the polynomial refers to the highest power of the input variable in the polynomial equation.\n",
        "  - **Degree 1 (Linear Regression)**: A straight line, simple and effective for linear relationships.\n",
        "  - **Degree 2 (Quadratic Regression)**: Adds a squared term, allowing the model to capture curvature.\n",
        "  - **Degree 3 (Cubic Regression)**: Adds a cubic term, capturing more complex relationships.\n",
        "  - **Higher Degrees**: Allow for even more complex relationships but can lead to overfitting.\n",
        "\n",
        "- **Creating Polynomial Features**: Using the `PolynomialFeatures` class to generate polynomial features up to the specified degree.\n",
        "\n",
        "**Training the Model:**\n",
        "- The model is trained on the polynomial features of the training data. The relationship between the input features and the target variable is learned.\n",
        "\n",
        "**Evaluating the Model:**\n",
        "- The model's performance is evaluated using metrics such as Mean Squared Error (MSE) and R-squared (R²) score.\n",
        "  - **MSE**: Measures the average squared difference between the actual and predicted values. Lower MSE indicates a better fit.\n",
        "  - **R² Score**: Indicates the proportion of the variance in the target variable that is predictable from the features. An R² score close to 1 indicates a better fit.\n",
        "\n",
        "**Visualization of the Model:**\n",
        "\n",
        "- **Regression Curve on Training Data**: Shows how well the model fits the training data.\n",
        "- **Regression Curve on Test Data**: Shows how well the model generalizes to unseen data.\n",
        "\n",
        "**Making Predictions:**\n",
        "\n",
        "The trained model is used to make predictions on new input values. If preprocessing was applied during training, the same preprocessing is applied to the input values before making predictions.\n",
        "\n",
        "---\n",
        "\n"
      ],
      "metadata": {
        "id": "wXiz4dMD9Izp"
      }
    },
    {
      "cell_type": "code",
      "source": [
        "# Importing necessary libraries\n",
        "import numpy as np\n",
        "import pandas as pd\n",
        "import matplotlib.pyplot as plt\n",
        "from sklearn.datasets import fetch_california_housing\n",
        "from sklearn.model_selection import train_test_split\n",
        "from sklearn.linear_model import LinearRegression\n",
        "from sklearn.preprocessing import PolynomialFeatures, StandardScaler, MinMaxScaler, RobustScaler\n",
        "from sklearn.metrics import mean_squared_error, r2_score\n",
        "import ipywidgets as widgets\n",
        "from IPython.display import display, Markdown\n",
        "\n",
        "# Load the California Housing dataset from scikit-learn\n",
        "housing = fetch_california_housing()\n",
        "\n",
        "# Convert the dataset to a pandas DataFrame for easier handling\n",
        "data = pd.DataFrame(housing.data, columns=housing.feature_names)\n",
        "data['MedHouseVal'] = housing.target  # Add the target column (median house value) to the DataFrame\n",
        "\n",
        "# Function to display dataset information\n",
        "def display_data_info():\n",
        "    # Display the dataset information and structure\n",
        "    display(Markdown(\"### Dataset Information\"))\n",
        "    display(Markdown(\"The California Housing dataset contains information about housing prices in California.\"))\n",
        "    display(Markdown(f\"**Number of instances:** {data.shape[0]}\"))\n",
        "    display(Markdown(f\"**Number of features:** {data.shape[1] - 1}\"))\n",
        "    display(Markdown(f\"**Features:** {', '.join(housing.feature_names)}\"))\n",
        "    display(Markdown(\"**Target:** MedHouseVal (Median House Value)\"))\n",
        "    display(Markdown(\"### First 5 Rows of the Dataset\"))\n",
        "    display(data.head())  # Display the first 5 rows of the dataset\n",
        "\n",
        "# Function to visualize the dataset\n",
        "def visualize_data(feature, preprocess):\n",
        "    # Select the feature and the target from the dataset\n",
        "    X = data[[feature]].values  # Feature\n",
        "    y = data['MedHouseVal'].values  # Target\n",
        "\n",
        "    # Preprocess the feature if selected\n",
        "    if preprocess == 'Standard Scaler':\n",
        "        scaler = StandardScaler()\n",
        "        X = scaler.fit_transform(X)\n",
        "    elif preprocess == 'Min-Max Scaler':\n",
        "        scaler = MinMaxScaler()\n",
        "        X = scaler.fit_transform(X)\n",
        "    elif preprocess == 'Robust Scaler':\n",
        "        scaler = RobustScaler()\n",
        "        X = scaler.fit_transform(X)\n",
        "\n",
        "    # Create a scatter plot to visualize the relationship between the selected feature and the target\n",
        "    plt.scatter(X, y, color='blue', label='Data points')\n",
        "    plt.title(f'{feature} vs Median House Value')\n",
        "    plt.xlabel(feature)\n",
        "    plt.ylabel('Median House Value')\n",
        "    plt.legend()\n",
        "    plt.show()\n",
        "    # Display explanation of the visualization\n",
        "    display(Markdown(f\"### Visualization of {feature}\"))\n",
        "    display(Markdown(f\"This scatter plot shows the relationship between the selected feature **{feature}** and the target variable **Median House Value**. Each blue point represents a data instance from the dataset. If preprocessing was selected, the feature values have been scaled accordingly.\"))\n",
        "\n",
        "# Function to perform Linear Regression with preprocessing\n",
        "def perform_linear_regression(feature, preprocess):\n",
        "    # Select the feature and the target from the dataset\n",
        "    X = data[[feature]].values  # Feature\n",
        "    y = data['MedHouseVal'].values  # Target\n",
        "\n",
        "    # Preprocess the feature if selected\n",
        "    scaler = None\n",
        "    if preprocess == 'Standard Scaler':\n",
        "        scaler = StandardScaler()\n",
        "        X = scaler.fit_transform(X)\n",
        "    elif preprocess == 'Min-Max Scaler':\n",
        "        scaler = MinMaxScaler()\n",
        "        X = scaler.fit_transform(X)\n",
        "    elif preprocess == 'Robust Scaler':\n",
        "        scaler = RobustScaler()\n",
        "        X = scaler.fit_transform(X)\n",
        "\n",
        "    # Split the data into training and testing sets\n",
        "    X_train, X_test, y_train, y_test = train_test_split(X, y, test_size=0.2, random_state=0)\n",
        "\n",
        "    # Create a Linear Regression model\n",
        "    model = LinearRegression()\n",
        "\n",
        "    # Train the model on the training data\n",
        "    model.fit(X_train, y_train)\n",
        "\n",
        "    # Make predictions on the test set\n",
        "    y_pred = model.predict(X_test)\n",
        "\n",
        "    # Evaluate the model using Mean Squared Error (MSE) and R-squared (R²) score\n",
        "    mse = mean_squared_error(y_test, y_pred)\n",
        "    r2 = r2_score(y_test, y_pred)\n",
        "\n",
        "    # Display the evaluation metrics\n",
        "    display(Markdown(\"### Model Evaluation\"))\n",
        "    display(Markdown(f\"**Mean Squared Error:** {mse}\"))\n",
        "    display(Markdown(f\"**R^2 Score:** {r2}\"))\n",
        "    display(Markdown(\"The Mean Squared Error (MSE) measures the average squared difference between the actual and predicted values. A lower MSE indicates a better fit. The R² Score indicates the proportion of the variance in the target variable that is predictable from the features. An R² score close to 1 indicates a better fit.\"))\n",
        "\n",
        "    # Plot the regression line on the training data\n",
        "    plt.scatter(X_train, y_train, color='blue', label='Training data')\n",
        "    plt.plot(X_train, model.predict(X_train), color='red', label='Regression line')\n",
        "    plt.title('Linear Regression on Training Data')\n",
        "    plt.xlabel(feature)\n",
        "    plt.ylabel('Median House Value')\n",
        "    plt.legend()\n",
        "    plt.show()\n",
        "    display(Markdown(f\"### Linear Regression on Training Data\"))\n",
        "    display(Markdown(\"This plot shows the Linear Regression model fitted on the training data. The blue points represent the training data, and the red line represents the regression line fitted by the model.\"))\n",
        "\n",
        "    # Plot the regression line on the test data\n",
        "    plt.scatter(X_test, y_test, color='blue', label='Testing data')\n",
        "    plt.plot(X_test, y_pred, color='red', label='Regression line')\n",
        "    plt.title('Linear Regression on Test Data')\n",
        "    plt.xlabel(feature)\n",
        "    plt.ylabel('Median House Value')\n",
        "    plt.legend()\n",
        "    plt.show()\n",
        "    display(Markdown(f\"### Linear Regression on Test Data\"))\n",
        "    display(Markdown(\"This plot shows the Linear Regression model predictions on the test data. The blue points represent the test data, and the red line represents the regression line predicted by the model. Comparing this plot with the training data plot helps to assess the model's performance on unseen data.\"))\n",
        "\n",
        "    return model, scaler\n",
        "\n",
        "# Function to perform Polynomial Regression with preprocessing\n",
        "def perform_polynomial_regression(feature, preprocess, degree):\n",
        "    # Select the feature and the target from the dataset\n",
        "    X = data[[feature]].values  # Feature\n",
        "    y = data['MedHouseVal'].values  # Target\n",
        "\n",
        "    # Preprocess the feature if selected\n",
        "    scaler = None\n",
        "    if preprocess == 'Standard Scaler':\n",
        "        scaler = StandardScaler()\n",
        "        X = scaler.fit_transform(X)\n",
        "    elif preprocess == 'Min-Max Scaler':\n",
        "        scaler = MinMaxScaler()\n",
        "        X = scaler.fit_transform(X)\n",
        "    elif preprocess == 'Robust Scaler':\n",
        "        scaler = RobustScaler()\n",
        "        X = scaler.fit_transform(X)\n",
        "\n",
        "    # Create polynomial features\n",
        "    poly = PolynomialFeatures(degree=degree)\n",
        "    X_poly = poly.fit_transform(X)\n",
        "\n",
        "    # Split the data into training and testing sets\n",
        "    X_train, X_test, y_train, y_test = train_test_split(X_poly, y, test_size=0.2, random_state=0)\n",
        "\n",
        "    # Create a Linear Regression model\n",
        "    model = LinearRegression()\n",
        "\n",
        "    # Train the model on the training data\n",
        "    model.fit(X_train, y_train)\n",
        "\n",
        "    # Make predictions on the test set\n",
        "    y_pred = model.predict(X_test)\n",
        "\n",
        "    # Evaluate the model using Mean Squared Error (MSE) and R-squared (R²) score\n",
        "    mse = mean_squared_error(y_test, y_pred)\n",
        "    r2 = r2_score(y_test, y_pred)\n",
        "\n",
        "    # Display the evaluation metrics\n",
        "    display(Markdown(\"### Model Evaluation\"))\n",
        "    display(Markdown(f\"**Mean Squared Error:** {mse}\"))\n",
        "    display(Markdown(f\"**R^2 Score:** {r2}\"))\n",
        "    display(Markdown(\"The Mean Squared Error (MSE) measures the average squared difference between the actual and predicted values. A lower MSE indicates a better fit. The R² Score indicates the proportion of the variance in the target variable that is predictable from the features. An R² score close to 1 indicates a better fit.\"))\n",
        "\n",
        "    # Plot the regression curve on the training data\n",
        "    plt.scatter(X_train[:, 1], y_train, color='blue', label='Training data')\n",
        "    plt.plot(np.sort(X_train[:, 1]), model.predict(np.sort(X_train, axis=0)), color='red', label='Regression curve')\n",
        "    plt.title('Polynomial Regression on Training Data')\n",
        "    plt.xlabel(feature)\n",
        "    plt.ylabel('Median House Value')\n",
        "    plt.legend()\n",
        "    plt.show()\n",
        "    display(Markdown(f\"### Polynomial Regression on Training Data\"))\n",
        "    display(Markdown(\"This plot shows the Polynomial Regression model fitted on the training data. The blue points represent the training data, and the red curve represents the regression curve fitted by the model.\"))\n",
        "\n",
        "    # Plot the regression curve on the test data\n",
        "    plt.scatter(X_test[:, 1], y_test, color='blue', label='Testing data')\n",
        "    plt.plot(np.sort(X_test[:, 1]), model.predict(np.sort(X_test, axis=0)), color='red', label='Regression curve')\n",
        "    plt.title('Polynomial Regression on Test Data')\n",
        "    plt.xlabel(feature)\n",
        "    plt.ylabel('Median House Value')\n",
        "    plt.legend()\n",
        "    plt.show()\n",
        "    display(Markdown(f\"### Polynomial Regression on Test Data\"))\n",
        "    display(Markdown(\"This plot shows the Polynomial Regression model predictions on the test data. The blue points represent the test data, and the red curve represents the regression curve predicted by the model. Comparing this plot with the training data plot helps to assess the model's performance on unseen data.\"))\n",
        "\n",
        "    return model, scaler, poly\n",
        "\n",
        "# Function to make predictions with new input values\n",
        "def make_predictions(model, scaler, poly, feature, input_value, regression_type):\n",
        "    # Preprocess the input value if a scaler is provided\n",
        "    if scaler:\n",
        "        input_value = scaler.transform(np.array([[input_value]]))\n",
        "\n",
        "    # Create polynomial features if Polynomial Regression is selected\n",
        "    if regression_type == 'Polynomial Regression':\n",
        "        input_value = poly.transform(input_value)\n",
        "\n",
        "    # Make prediction\n",
        "    prediction = model.predict(input_value)\n",
        "\n",
        "    # Display the prediction\n",
        "    display(Markdown(f\"### Prediction for {feature} = {input_value[0][0] if scaler is None else input_value[0][1]}\"))\n",
        "    display(Markdown(f\"**Predicted Median House Value:** {prediction[0]}\"))\n",
        "\n",
        "# Create a dropdown widget for selecting the feature to visualize and use for Linear Regression\n",
        "feature_dropdown = widgets.Dropdown(\n",
        "    options=housing.feature_names,\n",
        "    value='AveRooms',  # Default value\n",
        "    description='Feature:',\n",
        "    disabled=False,\n",
        ")\n",
        "\n",
        "# Create a dropdown widget for selecting the preprocessing method\n",
        "preprocess_dropdown = widgets.Dropdown(\n",
        "    options=['None', 'Standard Scaler', 'Min-Max Scaler', 'Robust Scaler'],\n",
        "    value='None',  # Default value\n",
        "    description='Preprocess:',\n",
        "    disabled=False,\n",
        ")\n",
        "\n",
        "# Create a dropdown widget for selecting the regression type\n",
        "regression_dropdown = widgets.Dropdown(\n",
        "    options=['Linear Regression', 'Polynomial Regression'],\n",
        "    value='Linear Regression',  # Default value\n",
        "    description='Regression Type:',\n",
        "    disabled=False,\n",
        ")\n",
        "\n",
        "# Create a float input widget for entering a new value to make predictions\n",
        "input_value = widgets.FloatText(\n",
        "    value=0.0,\n",
        "    description='Input Value:',\n",
        "    disabled=False,\n",
        ")\n",
        "\n",
        "# Create an integer input widget for entering the degree of the polynomial (used only for Polynomial Regression)\n",
        "degree_input = widgets.IntText(\n",
        "    value=2,\n",
        "    description='Degree:',\n",
        "    disabled=False,\n",
        ")\n",
        "\n",
        "# Create buttons for interactive actions\n",
        "display_data_button = widgets.Button(description=\"Display Dataset Info\")\n",
        "visualize_data_button = widgets.Button(description=\"Visualize Data\")\n",
        "perform_lr_button = widgets.Button(description=\"Perform Regression\")\n",
        "predict_button = widgets.Button(description=\"Make Prediction\")\n",
        "\n",
        "# Display the button for showing dataset information\n",
        "display(display_data_button)\n",
        "# Attach the display_data_info function to the button click event\n",
        "display_data_button.on_click(lambda b: display_data_info())\n",
        "\n",
        "# Display the dropdowns and button for visualizing data\n",
        "display(feature_dropdown)\n",
        "display(preprocess_dropdown)\n",
        "display(visualize_data_button)\n",
        "# Attach the visualize_data function to the button click event\n",
        "visualize_data_button.on_click(lambda b: visualize_data(feature_dropdown.value, preprocess_dropdown.value))\n",
        "\n",
        "# Display the dropdowns, degree input, and button for performing Regression\n",
        "display(regression_dropdown)\n",
        "display(preprocess_dropdown)\n",
        "display(feature_dropdown)\n",
        "display(degree_input)\n",
        "display(perform_lr_button)\n",
        "# Initialize variables for model, scaler, and polynomial features\n",
        "model = None\n",
        "scaler = None\n",
        "poly = None\n",
        "# Attach the perform_regression function to the button click event\n",
        "def perform_regression_action(b):\n",
        "    global model, scaler, poly\n",
        "    if regression_dropdown.value == 'Linear Regression':\n",
        "        model, scaler = perform_linear_regression(feature_dropdown.value, preprocess_dropdown.value)\n",
        "    else:\n",
        "        model, scaler, poly = perform_polynomial_regression(feature_dropdown.value, preprocess_dropdown.value, degree_input.value)\n",
        "\n",
        "perform_lr_button.on_click(perform_regression_action)\n",
        "\n",
        "# Display the float input and button for making predictions\n",
        "display(input_value)\n",
        "display(predict_button)\n",
        "# Attach the make_predictions function to the button click event\n",
        "predict_button.on_click(lambda b: make_predictions(model, scaler, poly, feature_dropdown.value, input_value.value, regression_dropdown.value))\n"
      ],
      "metadata": {
        "colab": {
          "base_uri": "https://localhost:8080/",
          "height": 1000,
          "referenced_widgets": [
            "2e9273b29d9c40a8a9b421f5ddd7eb2f",
            "1f26a7249f9d41eab229ae7b99f640f0",
            "ded7857034d44c8787879931ffcb74dd",
            "1fe80a12260b466e83da72239f7ea2ed",
            "033ec09e650d4ae998e91c6cd2ef6938",
            "97249441b4ec40a2ba9f79dcd5580df4",
            "b4ac42e2042040c1a1c9dafd6f5033b9",
            "5dbd3769ee82418abcfdbbc5e4a50afe",
            "70e4c7d7971c4f07bf1b183d7f1ed89f",
            "cc00996ac1ea474bb3c417e3dce64645",
            "51d5a429484f4b6fb0eb18354dfdecf6",
            "a92b9e8174704a088503f28a8de3a4c0",
            "55983441f86c486a9ab921fef3bca265",
            "1b8eecc6b96640dc861785f066b4cf19",
            "dc0d7786c3ca4782b8c4c5cffc4f6934",
            "293ff7adc23b44469f0b1e3932385459",
            "0e4d9ca09349457ba6a72a4b8252e6fc",
            "32f95642ec524721833c6e1257c98c8e",
            "8212f844ed334b809f393f838c69be88",
            "0fa0c382d5214a0d829b8cdfa3a3df12",
            "112999f0676442aba737a16136a07c10",
            "f15315ab426b4100bc75f6aac43de199",
            "899e29f06e8b4d148063fb5999dd88cb",
            "f940f6d25d134c7a97bffadea8bc7761",
            "b7cb8e05eba746d7ab6537d986fd7eba",
            "e5d77270b381450eb5d2c73f4d6c695d",
            "87758dbb28ba43f1b7867360ae2e7dc1"
          ]
        },
        "id": "lwIIDGzH9yY1",
        "outputId": "cf0e5857-bb65-4ee2-ac44-48dff79ed9d2"
      },
      "execution_count": 7,
      "outputs": [
        {
          "output_type": "display_data",
          "data": {
            "text/plain": [
              "Button(description='Display Dataset Info', style=ButtonStyle())"
            ],
            "application/vnd.jupyter.widget-view+json": {
              "version_major": 2,
              "version_minor": 0,
              "model_id": "2e9273b29d9c40a8a9b421f5ddd7eb2f"
            }
          },
          "metadata": {}
        },
        {
          "output_type": "display_data",
          "data": {
            "text/plain": [
              "Dropdown(description='Feature:', index=2, options=('MedInc', 'HouseAge', 'AveRooms', 'AveBedrms', 'Population'…"
            ],
            "application/vnd.jupyter.widget-view+json": {
              "version_major": 2,
              "version_minor": 0,
              "model_id": "1fe80a12260b466e83da72239f7ea2ed"
            }
          },
          "metadata": {}
        },
        {
          "output_type": "display_data",
          "data": {
            "text/plain": [
              "Dropdown(description='Preprocess:', options=('None', 'Standard Scaler', 'Min-Max Scaler', 'Robust Scaler'), va…"
            ],
            "application/vnd.jupyter.widget-view+json": {
              "version_major": 2,
              "version_minor": 0,
              "model_id": "b4ac42e2042040c1a1c9dafd6f5033b9"
            }
          },
          "metadata": {}
        },
        {
          "output_type": "display_data",
          "data": {
            "text/plain": [
              "Button(description='Visualize Data', style=ButtonStyle())"
            ],
            "application/vnd.jupyter.widget-view+json": {
              "version_major": 2,
              "version_minor": 0,
              "model_id": "cc00996ac1ea474bb3c417e3dce64645"
            }
          },
          "metadata": {}
        },
        {
          "output_type": "display_data",
          "data": {
            "text/plain": [
              "Dropdown(description='Regression Type:', options=('Linear Regression', 'Polynomial Regression'), value='Linear…"
            ],
            "application/vnd.jupyter.widget-view+json": {
              "version_major": 2,
              "version_minor": 0,
              "model_id": "55983441f86c486a9ab921fef3bca265"
            }
          },
          "metadata": {}
        },
        {
          "output_type": "display_data",
          "data": {
            "text/plain": [
              "Dropdown(description='Preprocess:', options=('None', 'Standard Scaler', 'Min-Max Scaler', 'Robust Scaler'), va…"
            ],
            "application/vnd.jupyter.widget-view+json": {
              "version_major": 2,
              "version_minor": 0,
              "model_id": "b4ac42e2042040c1a1c9dafd6f5033b9"
            }
          },
          "metadata": {}
        },
        {
          "output_type": "display_data",
          "data": {
            "text/plain": [
              "Dropdown(description='Feature:', index=2, options=('MedInc', 'HouseAge', 'AveRooms', 'AveBedrms', 'Population'…"
            ],
            "application/vnd.jupyter.widget-view+json": {
              "version_major": 2,
              "version_minor": 0,
              "model_id": "1fe80a12260b466e83da72239f7ea2ed"
            }
          },
          "metadata": {}
        },
        {
          "output_type": "display_data",
          "data": {
            "text/plain": [
              "IntText(value=2, description='Degree:')"
            ],
            "application/vnd.jupyter.widget-view+json": {
              "version_major": 2,
              "version_minor": 0,
              "model_id": "293ff7adc23b44469f0b1e3932385459"
            }
          },
          "metadata": {}
        },
        {
          "output_type": "display_data",
          "data": {
            "text/plain": [
              "Button(description='Perform Regression', style=ButtonStyle())"
            ],
            "application/vnd.jupyter.widget-view+json": {
              "version_major": 2,
              "version_minor": 0,
              "model_id": "8212f844ed334b809f393f838c69be88"
            }
          },
          "metadata": {}
        },
        {
          "output_type": "display_data",
          "data": {
            "text/plain": [
              "FloatText(value=0.0, description='Input Value:')"
            ],
            "application/vnd.jupyter.widget-view+json": {
              "version_major": 2,
              "version_minor": 0,
              "model_id": "f15315ab426b4100bc75f6aac43de199"
            }
          },
          "metadata": {}
        },
        {
          "output_type": "display_data",
          "data": {
            "text/plain": [
              "Button(description='Make Prediction', style=ButtonStyle())"
            ],
            "application/vnd.jupyter.widget-view+json": {
              "version_major": 2,
              "version_minor": 0,
              "model_id": "b7cb8e05eba746d7ab6537d986fd7eba"
            }
          },
          "metadata": {}
        },
        {
          "output_type": "display_data",
          "data": {
            "text/plain": [
              "<IPython.core.display.Markdown object>"
            ],
            "text/markdown": "### Dataset Information"
          },
          "metadata": {}
        },
        {
          "output_type": "display_data",
          "data": {
            "text/plain": [
              "<IPython.core.display.Markdown object>"
            ],
            "text/markdown": "The California Housing dataset contains information about housing prices in California."
          },
          "metadata": {}
        },
        {
          "output_type": "display_data",
          "data": {
            "text/plain": [
              "<IPython.core.display.Markdown object>"
            ],
            "text/markdown": "**Number of instances:** 20640"
          },
          "metadata": {}
        },
        {
          "output_type": "display_data",
          "data": {
            "text/plain": [
              "<IPython.core.display.Markdown object>"
            ],
            "text/markdown": "**Number of features:** 8"
          },
          "metadata": {}
        },
        {
          "output_type": "display_data",
          "data": {
            "text/plain": [
              "<IPython.core.display.Markdown object>"
            ],
            "text/markdown": "**Features:** MedInc, HouseAge, AveRooms, AveBedrms, Population, AveOccup, Latitude, Longitude"
          },
          "metadata": {}
        },
        {
          "output_type": "display_data",
          "data": {
            "text/plain": [
              "<IPython.core.display.Markdown object>"
            ],
            "text/markdown": "**Target:** MedHouseVal (Median House Value)"
          },
          "metadata": {}
        },
        {
          "output_type": "display_data",
          "data": {
            "text/plain": [
              "<IPython.core.display.Markdown object>"
            ],
            "text/markdown": "### First 5 Rows of the Dataset"
          },
          "metadata": {}
        },
        {
          "output_type": "display_data",
          "data": {
            "text/plain": [
              "   MedInc  HouseAge  AveRooms  AveBedrms  Population  AveOccup  Latitude  \\\n",
              "0  8.3252      41.0  6.984127   1.023810       322.0  2.555556     37.88   \n",
              "1  8.3014      21.0  6.238137   0.971880      2401.0  2.109842     37.86   \n",
              "2  7.2574      52.0  8.288136   1.073446       496.0  2.802260     37.85   \n",
              "3  5.6431      52.0  5.817352   1.073059       558.0  2.547945     37.85   \n",
              "4  3.8462      52.0  6.281853   1.081081       565.0  2.181467     37.85   \n",
              "\n",
              "   Longitude  MedHouseVal  \n",
              "0    -122.23        4.526  \n",
              "1    -122.22        3.585  \n",
              "2    -122.24        3.521  \n",
              "3    -122.25        3.413  \n",
              "4    -122.25        3.422  "
            ],
            "text/html": [
              "\n",
              "  <div id=\"df-3b203488-e7cb-41bc-b0aa-cf40af0eb4b7\" class=\"colab-df-container\">\n",
              "    <div>\n",
              "<style scoped>\n",
              "    .dataframe tbody tr th:only-of-type {\n",
              "        vertical-align: middle;\n",
              "    }\n",
              "\n",
              "    .dataframe tbody tr th {\n",
              "        vertical-align: top;\n",
              "    }\n",
              "\n",
              "    .dataframe thead th {\n",
              "        text-align: right;\n",
              "    }\n",
              "</style>\n",
              "<table border=\"1\" class=\"dataframe\">\n",
              "  <thead>\n",
              "    <tr style=\"text-align: right;\">\n",
              "      <th></th>\n",
              "      <th>MedInc</th>\n",
              "      <th>HouseAge</th>\n",
              "      <th>AveRooms</th>\n",
              "      <th>AveBedrms</th>\n",
              "      <th>Population</th>\n",
              "      <th>AveOccup</th>\n",
              "      <th>Latitude</th>\n",
              "      <th>Longitude</th>\n",
              "      <th>MedHouseVal</th>\n",
              "    </tr>\n",
              "  </thead>\n",
              "  <tbody>\n",
              "    <tr>\n",
              "      <th>0</th>\n",
              "      <td>8.3252</td>\n",
              "      <td>41.0</td>\n",
              "      <td>6.984127</td>\n",
              "      <td>1.023810</td>\n",
              "      <td>322.0</td>\n",
              "      <td>2.555556</td>\n",
              "      <td>37.88</td>\n",
              "      <td>-122.23</td>\n",
              "      <td>4.526</td>\n",
              "    </tr>\n",
              "    <tr>\n",
              "      <th>1</th>\n",
              "      <td>8.3014</td>\n",
              "      <td>21.0</td>\n",
              "      <td>6.238137</td>\n",
              "      <td>0.971880</td>\n",
              "      <td>2401.0</td>\n",
              "      <td>2.109842</td>\n",
              "      <td>37.86</td>\n",
              "      <td>-122.22</td>\n",
              "      <td>3.585</td>\n",
              "    </tr>\n",
              "    <tr>\n",
              "      <th>2</th>\n",
              "      <td>7.2574</td>\n",
              "      <td>52.0</td>\n",
              "      <td>8.288136</td>\n",
              "      <td>1.073446</td>\n",
              "      <td>496.0</td>\n",
              "      <td>2.802260</td>\n",
              "      <td>37.85</td>\n",
              "      <td>-122.24</td>\n",
              "      <td>3.521</td>\n",
              "    </tr>\n",
              "    <tr>\n",
              "      <th>3</th>\n",
              "      <td>5.6431</td>\n",
              "      <td>52.0</td>\n",
              "      <td>5.817352</td>\n",
              "      <td>1.073059</td>\n",
              "      <td>558.0</td>\n",
              "      <td>2.547945</td>\n",
              "      <td>37.85</td>\n",
              "      <td>-122.25</td>\n",
              "      <td>3.413</td>\n",
              "    </tr>\n",
              "    <tr>\n",
              "      <th>4</th>\n",
              "      <td>3.8462</td>\n",
              "      <td>52.0</td>\n",
              "      <td>6.281853</td>\n",
              "      <td>1.081081</td>\n",
              "      <td>565.0</td>\n",
              "      <td>2.181467</td>\n",
              "      <td>37.85</td>\n",
              "      <td>-122.25</td>\n",
              "      <td>3.422</td>\n",
              "    </tr>\n",
              "  </tbody>\n",
              "</table>\n",
              "</div>\n",
              "    <div class=\"colab-df-buttons\">\n",
              "\n",
              "  <div class=\"colab-df-container\">\n",
              "    <button class=\"colab-df-convert\" onclick=\"convertToInteractive('df-3b203488-e7cb-41bc-b0aa-cf40af0eb4b7')\"\n",
              "            title=\"Convert this dataframe to an interactive table.\"\n",
              "            style=\"display:none;\">\n",
              "\n",
              "  <svg xmlns=\"http://www.w3.org/2000/svg\" height=\"24px\" viewBox=\"0 -960 960 960\">\n",
              "    <path d=\"M120-120v-720h720v720H120Zm60-500h600v-160H180v160Zm220 220h160v-160H400v160Zm0 220h160v-160H400v160ZM180-400h160v-160H180v160Zm440 0h160v-160H620v160ZM180-180h160v-160H180v160Zm440 0h160v-160H620v160Z\"/>\n",
              "  </svg>\n",
              "    </button>\n",
              "\n",
              "  <style>\n",
              "    .colab-df-container {\n",
              "      display:flex;\n",
              "      gap: 12px;\n",
              "    }\n",
              "\n",
              "    .colab-df-convert {\n",
              "      background-color: #E8F0FE;\n",
              "      border: none;\n",
              "      border-radius: 50%;\n",
              "      cursor: pointer;\n",
              "      display: none;\n",
              "      fill: #1967D2;\n",
              "      height: 32px;\n",
              "      padding: 0 0 0 0;\n",
              "      width: 32px;\n",
              "    }\n",
              "\n",
              "    .colab-df-convert:hover {\n",
              "      background-color: #E2EBFA;\n",
              "      box-shadow: 0px 1px 2px rgba(60, 64, 67, 0.3), 0px 1px 3px 1px rgba(60, 64, 67, 0.15);\n",
              "      fill: #174EA6;\n",
              "    }\n",
              "\n",
              "    .colab-df-buttons div {\n",
              "      margin-bottom: 4px;\n",
              "    }\n",
              "\n",
              "    [theme=dark] .colab-df-convert {\n",
              "      background-color: #3B4455;\n",
              "      fill: #D2E3FC;\n",
              "    }\n",
              "\n",
              "    [theme=dark] .colab-df-convert:hover {\n",
              "      background-color: #434B5C;\n",
              "      box-shadow: 0px 1px 3px 1px rgba(0, 0, 0, 0.15);\n",
              "      filter: drop-shadow(0px 1px 2px rgba(0, 0, 0, 0.3));\n",
              "      fill: #FFFFFF;\n",
              "    }\n",
              "  </style>\n",
              "\n",
              "    <script>\n",
              "      const buttonEl =\n",
              "        document.querySelector('#df-3b203488-e7cb-41bc-b0aa-cf40af0eb4b7 button.colab-df-convert');\n",
              "      buttonEl.style.display =\n",
              "        google.colab.kernel.accessAllowed ? 'block' : 'none';\n",
              "\n",
              "      async function convertToInteractive(key) {\n",
              "        const element = document.querySelector('#df-3b203488-e7cb-41bc-b0aa-cf40af0eb4b7');\n",
              "        const dataTable =\n",
              "          await google.colab.kernel.invokeFunction('convertToInteractive',\n",
              "                                                    [key], {});\n",
              "        if (!dataTable) return;\n",
              "\n",
              "        const docLinkHtml = 'Like what you see? Visit the ' +\n",
              "          '<a target=\"_blank\" href=https://colab.research.google.com/notebooks/data_table.ipynb>data table notebook</a>'\n",
              "          + ' to learn more about interactive tables.';\n",
              "        element.innerHTML = '';\n",
              "        dataTable['output_type'] = 'display_data';\n",
              "        await google.colab.output.renderOutput(dataTable, element);\n",
              "        const docLink = document.createElement('div');\n",
              "        docLink.innerHTML = docLinkHtml;\n",
              "        element.appendChild(docLink);\n",
              "      }\n",
              "    </script>\n",
              "  </div>\n",
              "\n",
              "\n",
              "<div id=\"df-abe145d7-2705-45b8-af09-4baa9d81fdfa\">\n",
              "  <button class=\"colab-df-quickchart\" onclick=\"quickchart('df-abe145d7-2705-45b8-af09-4baa9d81fdfa')\"\n",
              "            title=\"Suggest charts\"\n",
              "            style=\"display:none;\">\n",
              "\n",
              "<svg xmlns=\"http://www.w3.org/2000/svg\" height=\"24px\"viewBox=\"0 0 24 24\"\n",
              "     width=\"24px\">\n",
              "    <g>\n",
              "        <path d=\"M19 3H5c-1.1 0-2 .9-2 2v14c0 1.1.9 2 2 2h14c1.1 0 2-.9 2-2V5c0-1.1-.9-2-2-2zM9 17H7v-7h2v7zm4 0h-2V7h2v10zm4 0h-2v-4h2v4z\"/>\n",
              "    </g>\n",
              "</svg>\n",
              "  </button>\n",
              "\n",
              "<style>\n",
              "  .colab-df-quickchart {\n",
              "      --bg-color: #E8F0FE;\n",
              "      --fill-color: #1967D2;\n",
              "      --hover-bg-color: #E2EBFA;\n",
              "      --hover-fill-color: #174EA6;\n",
              "      --disabled-fill-color: #AAA;\n",
              "      --disabled-bg-color: #DDD;\n",
              "  }\n",
              "\n",
              "  [theme=dark] .colab-df-quickchart {\n",
              "      --bg-color: #3B4455;\n",
              "      --fill-color: #D2E3FC;\n",
              "      --hover-bg-color: #434B5C;\n",
              "      --hover-fill-color: #FFFFFF;\n",
              "      --disabled-bg-color: #3B4455;\n",
              "      --disabled-fill-color: #666;\n",
              "  }\n",
              "\n",
              "  .colab-df-quickchart {\n",
              "    background-color: var(--bg-color);\n",
              "    border: none;\n",
              "    border-radius: 50%;\n",
              "    cursor: pointer;\n",
              "    display: none;\n",
              "    fill: var(--fill-color);\n",
              "    height: 32px;\n",
              "    padding: 0;\n",
              "    width: 32px;\n",
              "  }\n",
              "\n",
              "  .colab-df-quickchart:hover {\n",
              "    background-color: var(--hover-bg-color);\n",
              "    box-shadow: 0 1px 2px rgba(60, 64, 67, 0.3), 0 1px 3px 1px rgba(60, 64, 67, 0.15);\n",
              "    fill: var(--button-hover-fill-color);\n",
              "  }\n",
              "\n",
              "  .colab-df-quickchart-complete:disabled,\n",
              "  .colab-df-quickchart-complete:disabled:hover {\n",
              "    background-color: var(--disabled-bg-color);\n",
              "    fill: var(--disabled-fill-color);\n",
              "    box-shadow: none;\n",
              "  }\n",
              "\n",
              "  .colab-df-spinner {\n",
              "    border: 2px solid var(--fill-color);\n",
              "    border-color: transparent;\n",
              "    border-bottom-color: var(--fill-color);\n",
              "    animation:\n",
              "      spin 1s steps(1) infinite;\n",
              "  }\n",
              "\n",
              "  @keyframes spin {\n",
              "    0% {\n",
              "      border-color: transparent;\n",
              "      border-bottom-color: var(--fill-color);\n",
              "      border-left-color: var(--fill-color);\n",
              "    }\n",
              "    20% {\n",
              "      border-color: transparent;\n",
              "      border-left-color: var(--fill-color);\n",
              "      border-top-color: var(--fill-color);\n",
              "    }\n",
              "    30% {\n",
              "      border-color: transparent;\n",
              "      border-left-color: var(--fill-color);\n",
              "      border-top-color: var(--fill-color);\n",
              "      border-right-color: var(--fill-color);\n",
              "    }\n",
              "    40% {\n",
              "      border-color: transparent;\n",
              "      border-right-color: var(--fill-color);\n",
              "      border-top-color: var(--fill-color);\n",
              "    }\n",
              "    60% {\n",
              "      border-color: transparent;\n",
              "      border-right-color: var(--fill-color);\n",
              "    }\n",
              "    80% {\n",
              "      border-color: transparent;\n",
              "      border-right-color: var(--fill-color);\n",
              "      border-bottom-color: var(--fill-color);\n",
              "    }\n",
              "    90% {\n",
              "      border-color: transparent;\n",
              "      border-bottom-color: var(--fill-color);\n",
              "    }\n",
              "  }\n",
              "</style>\n",
              "\n",
              "  <script>\n",
              "    async function quickchart(key) {\n",
              "      const quickchartButtonEl =\n",
              "        document.querySelector('#' + key + ' button');\n",
              "      quickchartButtonEl.disabled = true;  // To prevent multiple clicks.\n",
              "      quickchartButtonEl.classList.add('colab-df-spinner');\n",
              "      try {\n",
              "        const charts = await google.colab.kernel.invokeFunction(\n",
              "            'suggestCharts', [key], {});\n",
              "      } catch (error) {\n",
              "        console.error('Error during call to suggestCharts:', error);\n",
              "      }\n",
              "      quickchartButtonEl.classList.remove('colab-df-spinner');\n",
              "      quickchartButtonEl.classList.add('colab-df-quickchart-complete');\n",
              "    }\n",
              "    (() => {\n",
              "      let quickchartButtonEl =\n",
              "        document.querySelector('#df-abe145d7-2705-45b8-af09-4baa9d81fdfa button');\n",
              "      quickchartButtonEl.style.display =\n",
              "        google.colab.kernel.accessAllowed ? 'block' : 'none';\n",
              "    })();\n",
              "  </script>\n",
              "</div>\n",
              "\n",
              "    </div>\n",
              "  </div>\n"
            ],
            "application/vnd.google.colaboratory.intrinsic+json": {
              "type": "dataframe",
              "summary": "{\n  \"name\": \"predict_button\",\n  \"rows\": 5,\n  \"fields\": [\n    {\n      \"column\": \"MedInc\",\n      \"properties\": {\n        \"dtype\": \"number\",\n        \"std\": 1.9218775476080674,\n        \"min\": 3.8462,\n        \"max\": 8.3252,\n        \"num_unique_values\": 5,\n        \"samples\": [\n          8.3014,\n          3.8462,\n          7.2574\n        ],\n        \"semantic_type\": \"\",\n        \"description\": \"\"\n      }\n    },\n    {\n      \"column\": \"HouseAge\",\n      \"properties\": {\n        \"dtype\": \"number\",\n        \"std\": 13.501851724856113,\n        \"min\": 21.0,\n        \"max\": 52.0,\n        \"num_unique_values\": 3,\n        \"samples\": [\n          41.0,\n          21.0,\n          52.0\n        ],\n        \"semantic_type\": \"\",\n        \"description\": \"\"\n      }\n    },\n    {\n      \"column\": \"AveRooms\",\n      \"properties\": {\n        \"dtype\": \"number\",\n        \"std\": 0.9705323807243326,\n        \"min\": 5.8173515981735155,\n        \"max\": 8.288135593220339,\n        \"num_unique_values\": 5,\n        \"samples\": [\n          6.238137082601054,\n          6.281853281853282,\n          8.288135593220339\n        ],\n        \"semantic_type\": \"\",\n        \"description\": \"\"\n      }\n    },\n    {\n      \"column\": \"AveBedrms\",\n      \"properties\": {\n        \"dtype\": \"number\",\n        \"std\": 0.04661885487529508,\n        \"min\": 0.9718804920913884,\n        \"max\": 1.0810810810810811,\n        \"num_unique_values\": 5,\n        \"samples\": [\n          0.9718804920913884,\n          1.0810810810810811,\n          1.073446327683616\n        ],\n        \"semantic_type\": \"\",\n        \"description\": \"\"\n      }\n    },\n    {\n      \"column\": \"Population\",\n      \"properties\": {\n        \"dtype\": \"number\",\n        \"std\": 862.3365352343596,\n        \"min\": 322.0,\n        \"max\": 2401.0,\n        \"num_unique_values\": 5,\n        \"samples\": [\n          2401.0,\n          565.0,\n          496.0\n        ],\n        \"semantic_type\": \"\",\n        \"description\": \"\"\n      }\n    },\n    {\n      \"column\": \"AveOccup\",\n      \"properties\": {\n        \"dtype\": \"number\",\n        \"std\": 0.2881316535489867,\n        \"min\": 2.109841827768014,\n        \"max\": 2.8022598870056497,\n        \"num_unique_values\": 5,\n        \"samples\": [\n          2.109841827768014,\n          2.1814671814671813,\n          2.8022598870056497\n        ],\n        \"semantic_type\": \"\",\n        \"description\": \"\"\n      }\n    },\n    {\n      \"column\": \"Latitude\",\n      \"properties\": {\n        \"dtype\": \"number\",\n        \"std\": 0.0130384048104057,\n        \"min\": 37.85,\n        \"max\": 37.88,\n        \"num_unique_values\": 3,\n        \"samples\": [\n          37.88,\n          37.86,\n          37.85\n        ],\n        \"semantic_type\": \"\",\n        \"description\": \"\"\n      }\n    },\n    {\n      \"column\": \"Longitude\",\n      \"properties\": {\n        \"dtype\": \"number\",\n        \"std\": 0.013038404810404884,\n        \"min\": -122.25,\n        \"max\": -122.22,\n        \"num_unique_values\": 4,\n        \"samples\": [\n          -122.22,\n          -122.25,\n          -122.23\n        ],\n        \"semantic_type\": \"\",\n        \"description\": \"\"\n      }\n    },\n    {\n      \"column\": \"MedHouseVal\",\n      \"properties\": {\n        \"dtype\": \"number\",\n        \"std\": 0.4708973348830931,\n        \"min\": 3.413,\n        \"max\": 4.526,\n        \"num_unique_values\": 5,\n        \"samples\": [\n          3.585,\n          3.422,\n          3.521\n        ],\n        \"semantic_type\": \"\",\n        \"description\": \"\"\n      }\n    }\n  ]\n}"
            }
          },
          "metadata": {}
        },
        {
          "output_type": "display_data",
          "data": {
            "text/plain": [
              "<Figure size 640x480 with 1 Axes>"
            ],
            "image/png": "[encoded data removed]"
          },
          "metadata": {}
        },
        {
          "output_type": "display_data",
          "data": {
            "text/plain": [
              "<IPython.core.display.Markdown object>"
            ],
            "text/markdown": "### Visualization of AveRooms"
          },
          "metadata": {}
        },
        {
          "output_type": "display_data",
          "data": {
            "text/plain": [
              "<IPython.core.display.Markdown object>"
            ],
            "text/markdown": "This scatter plot shows the relationship between the selected feature **AveRooms** and the target variable **Median House Value**. Each blue point represents a data instance from the dataset. If preprocessing was selected, the feature values have been scaled accordingly."
          },
          "metadata": {}
        },
        {
          "output_type": "display_data",
          "data": {
            "text/plain": [
              "<IPython.core.display.Markdown object>"
            ],
            "text/markdown": "### Model Evaluation"
          },
          "metadata": {}
        },
        {
          "output_type": "display_data",
          "data": {
            "text/plain": [
              "<IPython.core.display.Markdown object>"
            ],
            "text/markdown": "**Mean Squared Error:** 1.227745454439949"
          },
          "metadata": {}
        },
        {
          "output_type": "display_data",
          "data": {
            "text/plain": [
              "<IPython.core.display.Markdown object>"
            ],
            "text/markdown": "**R^2 Score:** 0.05844484938822725"
          },
          "metadata": {}
        },
        {
          "output_type": "display_data",
          "data": {
            "text/plain": [
              "<IPython.core.display.Markdown object>"
            ],
            "text/markdown": "The Mean Squared Error (MSE) measures the average squared difference between the actual and predicted values. A lower MSE indicates a better fit. The R² Score indicates the proportion of the variance in the target variable that is predictable from the features. An R² score close to 1 indicates a better fit."
          },
          "metadata": {}
        },
        {
          "output_type": "display_data",
          "data": {
            "text/plain": [
              "<Figure size 640x480 with 1 Axes>"
            ],
            "image/png": "[encoded data removed]"
          },
          "metadata": {}
        },
        {
          "output_type": "display_data",
          "data": {
            "text/plain": [
              "<IPython.core.display.Markdown object>"
            ],
            "text/markdown": "### Polynomial Regression on Training Data"
          },
          "metadata": {}
        },
        {
          "output_type": "display_data",
          "data": {
            "text/plain": [
              "<IPython.core.display.Markdown object>"
            ],
            "text/markdown": "This plot shows the Polynomial Regression model fitted on the training data. The blue points represent the training data, and the red curve represents the regression curve fitted by the model."
          },
          "metadata": {}
        },
        {
          "output_type": "display_data",
          "data": {
            "text/plain": [
              "<Figure size 640x480 with 1 Axes>"
            ],
            "image/png": "[encoded data removed]"
          },
          "metadata": {}
        },
        {
          "output_type": "display_data",
          "data": {
            "text/plain": [
              "<IPython.core.display.Markdown object>"
            ],
            "text/markdown": "### Polynomial Regression on Test Data"
          },
          "metadata": {}
        },
        {
          "output_type": "display_data",
          "data": {
            "text/plain": [
              "<IPython.core.display.Markdown object>"
            ],
            "text/markdown": "This plot shows the Polynomial Regression model predictions on the test data. The blue points represent the test data, and the red curve represents the regression curve predicted by the model. Comparing this plot with the training data plot helps to assess the model's performance on unseen data."
          },
          "metadata": {}
        },
        {
          "output_type": "display_data",
          "data": {
            "text/plain": [
              "<IPython.core.display.Markdown object>"
            ],
            "text/markdown": "### Model Evaluation"
          },
          "metadata": {}
        },
        {
          "output_type": "display_data",
          "data": {
            "text/plain": [
              "<IPython.core.display.Markdown object>"
            ],
            "text/markdown": "**Mean Squared Error:** 1.2689241420356616"
          },
          "metadata": {}
        },
        {
          "output_type": "display_data",
          "data": {
            "text/plain": [
              "<IPython.core.display.Markdown object>"
            ],
            "text/markdown": "**R^2 Score:** 0.0268650090711946"
          },
          "metadata": {}
        },
        {
          "output_type": "display_data",
          "data": {
            "text/plain": [
              "<IPython.core.display.Markdown object>"
            ],
            "text/markdown": "The Mean Squared Error (MSE) measures the average squared difference between the actual and predicted values. A lower MSE indicates a better fit. The R² Score indicates the proportion of the variance in the target variable that is predictable from the features. An R² score close to 1 indicates a better fit."
          },
          "metadata": {}
        },
        {
          "output_type": "display_data",
          "data": {
            "text/plain": [
              "<Figure size 640x480 with 1 Axes>"
            ],
            "image/png": "[encoded data removed]"
          },
          "metadata": {}
        },
        {
          "output_type": "display_data",
          "data": {
            "text/plain": [
              "<IPython.core.display.Markdown object>"
            ],
            "text/markdown": "### Polynomial Regression on Training Data"
          },
          "metadata": {}
        },
        {
          "output_type": "display_data",
          "data": {
            "text/plain": [
              "<IPython.core.display.Markdown object>"
            ],
            "text/markdown": "This plot shows the Polynomial Regression model fitted on the training data. The blue points represent the training data, and the red curve represents the regression curve fitted by the model."
          },
          "metadata": {}
        },
        {
          "output_type": "display_data",
          "data": {
            "text/plain": [
              "<Figure size 640x480 with 1 Axes>"
            ],
            "image/png": "[encoded data removed]"
          },
          "metadata": {}
        },
        {
          "output_type": "display_data",
          "data": {
            "text/plain": [
              "<IPython.core.display.Markdown object>"
            ],
            "text/markdown": "### Polynomial Regression on Test Data"
          },
          "metadata": {}
        },
        {
          "output_type": "display_data",
          "data": {
            "text/plain": [
              "<IPython.core.display.Markdown object>"
            ],
            "text/markdown": "This plot shows the Polynomial Regression model predictions on the test data. The blue points represent the test data, and the red curve represents the regression curve predicted by the model. Comparing this plot with the training data plot helps to assess the model's performance on unseen data."
          },
          "metadata": {}
        },
        {
          "output_type": "display_data",
          "data": {
            "text/plain": [
              "<IPython.core.display.Markdown object>"
            ],
            "text/markdown": "### Prediction for AveRooms = 6.778590503454601"
          },
          "metadata": {}
        },
        {
          "output_type": "display_data",
          "data": {
            "text/plain": [
              "<IPython.core.display.Markdown object>"
            ],
            "text/markdown": "**Predicted Median House Value:** 4.076109576398228"
          },
          "metadata": {}
        }
      ]
    },
    {
      "cell_type": "markdown",
      "source": [
        "### Regularization Techniques: Theory and Implementation\n",
        "\n",
        "\n",
        "---\n",
        "\n",
        "\n",
        "\n",
        "#### Introduction\n",
        "Regularization techniques are used in machine learning to prevent overfitting by adding a penalty term to the model's loss function. Overfitting occurs when a model learns not only the underlying pattern but also the noise in the training data, resulting in poor performance on unseen data. The three most common regularization techniques are Ridge, Lasso, and Elastic Net Regression.\n",
        "\n",
        "#### California Housing Dataset\n",
        "The California Housing dataset is used in this example. It contains information about housing prices in California, with features such as the average number of rooms, population, median income, etc., and the target variable being the median house value.\n",
        "\n",
        "#### Steps Involved\n",
        "\n",
        "**Loading the Dataset:**\n",
        "The dataset is loaded using the `fetch_california_housing` function from the `scikit-learn` library and converted into a pandas DataFrame for easier handling.\n",
        "\n",
        "**Dataset Information:**\n",
        "\n",
        "- **Number of Instances**: The total number of data points in the dataset.\n",
        "- **Number of Features**: The number of input features used for prediction.\n",
        "- **Target Variable**: The variable we aim to predict, which in this case is the median house value (`MedHouseVal`).\n",
        "\n",
        "**Data Visualization:**\n",
        "\n",
        "- **Scatter Plot**: A scatter plot is used to visualize the relationship between the selected feature and the target variable. This helps in understanding how the feature influences the target.\n",
        "\n",
        "**Preprocessing:**\n",
        "\n",
        "- **Standard Scaler**: Scales the data so that it has a mean of 0 and a standard deviation of 1. Useful when the data has varying scales.\n",
        "- **Min-Max Scaler**: Scales the data to a fixed range, usually 0 to 1. Useful when the data needs to be normalized.\n",
        "- **Robust Scaler**: Scales the data using statistics that are robust to outliers. Useful when the data contains outliers.\n",
        "\n",
        "#### Regularization Techniques\n",
        "\n",
        "**Ridge Regression:**\n",
        "Ridge Regression (also known as Tikhonov regularization) adds a penalty term to the loss function proportional to the square of the magnitude of the coefficients. Ridge Regression helps in reducing the variance of the model without eliminating any features.\n",
        "\n",
        "**Lasso Regression:**\n",
        "Lasso Regression (Least Absolute Shrinkage and Selection Operator) adds a penalty term to the loss function proportional to the absolute value of the magnitude of the coefficients.\n",
        "Lasso Regression can shrink some coefficients to zero, effectively performing feature selection.\n",
        "\n",
        "**Elastic Net Regression:**\n",
        "Elastic Net Regression combines both Ridge and Lasso penalties.\n",
        "Elastic Net is useful when there are multiple features that are correlated with one another.\n",
        "\n",
        "#### Training the Model:\n",
        "- The model is trained on the training data. The relationship between the input features and the target variable is learned while applying the selected regularization technique.\n",
        "\n",
        "#### Evaluating the Model:\n",
        "- The model's performance is evaluated using metrics such as Mean Squared Error (MSE) and R-squared (R²) score.\n",
        "  - **MSE**: Measures the average squared difference between the actual and predicted values. Lower MSE indicates a better fit.\n",
        "  - **R² Score**: Indicates the proportion of the variance in the target variable that is predictable from the features. An R² score close to 1 indicates a better fit.\n",
        "\n",
        "#### Visualization of the Model:\n",
        "\n",
        "- **Regression Line on Training Data**: Shows how well the model fits the training data.\n",
        "- **Regression Line on Test Data**: Shows how well the model generalizes to unseen data.\n",
        "\n",
        "#### Making Predictions:\n",
        "\n",
        "The trained model is used to make predictions on new input values. If preprocessing was applied during training, the same preprocessing is applied to the input values before making predictions.\n",
        "\n"
      ],
      "metadata": {
        "id": "ADUKC_-RASff"
      }
    },
    {
      "cell_type": "code",
      "source": [
        "# Importing necessary libraries\n",
        "import numpy as np\n",
        "import pandas as pd\n",
        "import matplotlib.pyplot as plt\n",
        "from sklearn.datasets import fetch_california_housing\n",
        "from sklearn.model_selection import train_test_split\n",
        "from sklearn.linear_model import LinearRegression, Ridge, Lasso, ElasticNet\n",
        "from sklearn.preprocessing import StandardScaler, MinMaxScaler, RobustScaler\n",
        "from sklearn.metrics import mean_squared_error, r2_score\n",
        "import ipywidgets as widgets\n",
        "from IPython.display import display, Markdown\n",
        "\n",
        "# Load the California Housing dataset from scikit-learn\n",
        "housing = fetch_california_housing()\n",
        "\n",
        "# Convert the dataset to a pandas DataFrame for easier handling\n",
        "data = pd.DataFrame(housing.data, columns=housing.feature_names)\n",
        "data['MedHouseVal'] = housing.target  # Add the target column (median house value) to the DataFrame\n",
        "\n",
        "# Function to display dataset information\n",
        "def display_data_info():\n",
        "    # Display the dataset information and structure\n",
        "    display(Markdown(\"### Dataset Information\"))\n",
        "    display(Markdown(\"The California Housing dataset contains information about housing prices in California.\"))\n",
        "    display(Markdown(f\"**Number of instances:** {data.shape[0]}\"))\n",
        "    display(Markdown(f\"**Number of features:** {data.shape[1] - 1}\"))\n",
        "    display(Markdown(f\"**Features:** {', '.join(housing.feature_names)}\"))\n",
        "    display(Markdown(\"**Target:** MedHouseVal (Median House Value)\"))\n",
        "    display(Markdown(\"### First 5 Rows of the Dataset\"))\n",
        "    display(data.head())  # Display the first 5 rows of the dataset\n",
        "\n",
        "# Function to visualize the dataset\n",
        "def visualize_data(feature, preprocess):\n",
        "    # Select the feature and the target from the dataset\n",
        "    X = data[[feature]].values  # Feature\n",
        "    y = data['MedHouseVal'].values  # Target\n",
        "\n",
        "    # Preprocess the feature if selected\n",
        "    if preprocess == 'Standard Scaler':\n",
        "        scaler = StandardScaler()\n",
        "        X = scaler.fit_transform(X)\n",
        "    elif preprocess == 'Min-Max Scaler':\n",
        "        scaler = MinMaxScaler()\n",
        "        X = scaler.fit_transform(X)\n",
        "    elif preprocess == 'Robust Scaler':\n",
        "        scaler = RobustScaler()\n",
        "        X = scaler.fit_transform(X)\n",
        "\n",
        "    # Create a scatter plot to visualize the relationship between the selected feature and the target\n",
        "    plt.scatter(X, y, color='blue', label='Data points')\n",
        "    plt.title(f'{feature} vs Median House Value')\n",
        "    plt.xlabel(feature)\n",
        "    plt.ylabel('Median House Value')\n",
        "    plt.legend()\n",
        "    plt.show()\n",
        "    # Display explanation of the visualization\n",
        "    display(Markdown(f\"### Visualization of {feature}\"))\n",
        "    display(Markdown(f\"This scatter plot shows the relationship between the selected feature **{feature}** and the target variable **Median House Value**. Each blue point represents a data instance from the dataset. If preprocessing was selected, the feature values have been scaled accordingly.\"))\n",
        "\n",
        "# Function to perform Regularization (Ridge, Lasso, Elastic Net) with preprocessing\n",
        "def perform_regularization(feature, preprocess, method, alpha):\n",
        "    # Select the feature and the target from the dataset\n",
        "    X = data[[feature]].values  # Feature\n",
        "    y = data['MedHouseVal'].values  # Target\n",
        "\n",
        "    # Preprocess the feature if selected\n",
        "    scaler = None\n",
        "    if preprocess == 'Standard Scaler':\n",
        "        scaler = StandardScaler()\n",
        "        X = scaler.fit_transform(X)\n",
        "    elif preprocess == 'Min-Max Scaler':\n",
        "        scaler = MinMaxScaler()\n",
        "        X = scaler.fit_transform(X)\n",
        "    elif preprocess == 'Robust Scaler':\n",
        "        scaler = RobustScaler()\n",
        "        X = scaler.fit_transform(X)\n",
        "\n",
        "    # Split the data into training and testing sets\n",
        "    X_train, X_test, y_train, y_test = train_test_split(X, y, test_size=0.2, random_state=0)\n",
        "\n",
        "    # Select the regularization method\n",
        "    if method == 'Ridge':\n",
        "        model = Ridge(alpha=alpha)\n",
        "    elif method == 'Lasso':\n",
        "        model = Lasso(alpha=alpha)\n",
        "    elif method == 'Elastic Net':\n",
        "        model = ElasticNet(alpha=alpha)\n",
        "    else:\n",
        "        model = LinearRegression()  # Fallback to Linear Regression\n",
        "\n",
        "    # Train the model on the training data\n",
        "    model.fit(X_train, y_train)\n",
        "\n",
        "    # Make predictions on the test set\n",
        "    y_pred = model.predict(X_test)\n",
        "\n",
        "    # Evaluate the model using Mean Squared Error (MSE) and R-squared (R²) score\n",
        "    mse = mean_squared_error(y_test, y_pred)\n",
        "    r2 = r2_score(y_test, y_pred)\n",
        "\n",
        "    # Display the evaluation metrics\n",
        "    display(Markdown(\"### Model Evaluation\"))\n",
        "    display(Markdown(f\"**Mean Squared Error:** {mse}\"))\n",
        "    display(Markdown(f\"**R^2 Score:** {r2}\"))\n",
        "    display(Markdown(\"The Mean Squared Error (MSE) measures the average squared difference between the actual and predicted values. A lower MSE indicates a better fit. The R² Score indicates the proportion of the variance in the target variable that is predictable from the features. An R² score close to 1 indicates a better fit.\"))\n",
        "\n",
        "    # Plot the regression line on the training data\n",
        "    plt.scatter(X_train, y_train, color='blue', label='Training data')\n",
        "    plt.plot(X_train, model.predict(X_train), color='red', label='Regression line')\n",
        "    plt.title(f'{method} Regression on Training Data')\n",
        "    plt.xlabel(feature)\n",
        "    plt.ylabel('Median House Value')\n",
        "    plt.legend()\n",
        "    plt.show()\n",
        "    display(Markdown(f\"### {method} Regression on Training Data\"))\n",
        "    display(Markdown(f\"This plot shows the {method} Regression model fitted on the training data. The blue points represent the training data, and the red line represents the regression line fitted by the model.\"))\n",
        "\n",
        "    # Plot the regression line on the test data\n",
        "    plt.scatter(X_test, y_test, color='blue', label='Testing data')\n",
        "    plt.plot(X_test, y_pred, color='red', label='Regression line')\n",
        "    plt.title(f'{method} Regression on Test Data')\n",
        "    plt.xlabel(feature)\n",
        "    plt.ylabel('Median House Value')\n",
        "    plt.legend()\n",
        "    plt.show()\n",
        "    display(Markdown(f\"### {method} Regression on Test Data\"))\n",
        "    display(Markdown(f\"This plot shows the {method} Regression model predictions on the test data. The blue points represent the test data, and the red line represents the regression line predicted by the model. Comparing this plot with the training data plot helps to assess the model's performance on unseen data.\"))\n",
        "\n",
        "    return model, scaler\n",
        "\n",
        "# Function to make predictions with new input values\n",
        "def make_predictions(model, scaler, feature, input_value):\n",
        "    # Preprocess the input value if a scaler is provided\n",
        "    if scaler:\n",
        "        input_value = scaler.transform(np.array([[input_value]]))\n",
        "\n",
        "    # Make prediction\n",
        "    prediction = model.predict(input_value)\n",
        "\n",
        "    # Display the prediction\n",
        "    display(Markdown(f\"### Prediction for {feature} = {input_value[0][0] if scaler else input_value[0]}\"))\n",
        "    display(Markdown(f\"**Predicted Median House Value:** {prediction[0]}\"))\n",
        "\n",
        "# Create a dropdown widget for selecting the feature to visualize and use for Regularization\n",
        "feature_dropdown = widgets.Dropdown(\n",
        "    options=housing.feature_names,\n",
        "    value='AveRooms',  # Default value\n",
        "    description='Feature:',\n",
        "    disabled=False,\n",
        ")\n",
        "\n",
        "# Create a dropdown widget for selecting the preprocessing method\n",
        "preprocess_dropdown = widgets.Dropdown(\n",
        "    options=['None', 'Standard Scaler', 'Min-Max Scaler', 'Robust Scaler'],\n",
        "    value='None',  # Default value\n",
        "    description='Preprocess:',\n",
        "    disabled=False,\n",
        ")\n",
        "\n",
        "# Create a dropdown widget for selecting the regularization method\n",
        "method_dropdown = widgets.Dropdown(\n",
        "    options=['Ridge', 'Lasso', 'Elastic Net'],\n",
        "    value='Ridge',  # Default value\n",
        "    description='Method:',\n",
        "    disabled=False,\n",
        ")\n",
        "\n",
        "# Create a float input widget for entering the alpha value (regularization strength)\n",
        "alpha_input = widgets.FloatText(\n",
        "    value=1.0,\n",
        "    description='Alpha:',\n",
        "    disabled=False,\n",
        ")\n",
        "\n",
        "# Create a float input widget for entering a new value to make predictions\n",
        "input_value = widgets.FloatText(\n",
        "    value=0.0,\n",
        "    description='Input Value:',\n",
        "    disabled=False,\n",
        ")\n",
        "\n",
        "# Create buttons for interactive actions\n",
        "display_data_button = widgets.Button(description=\"Display Dataset Info\")\n",
        "visualize_data_button = widgets.Button(description=\"Visualize Data\")\n",
        "perform_regression_button = widgets.Button(description=\"Perform Regression\")\n",
        "predict_button = widgets.Button(description=\"Make Prediction\")\n",
        "\n",
        "# Display the button for showing dataset information\n",
        "display(display_data_button)\n",
        "# Attach the display_data_info function to the button click event\n",
        "display_data_button.on_click(lambda b: display_data_info())\n",
        "\n",
        "# Display the dropdowns and button for visualizing data\n",
        "display(feature_dropdown)\n",
        "display(preprocess_dropdown)\n",
        "display(visualize_data_button)\n",
        "# Attach the visualize_data function to the button click event\n",
        "visualize_data_button.on_click(lambda b: visualize_data(feature_dropdown.value, preprocess_dropdown.value))\n",
        "\n",
        "# Display the dropdowns, alpha input, and button for performing Regularization\n",
        "display(method_dropdown)\n",
        "display(preprocess_dropdown)\n",
        "display(feature_dropdown)\n",
        "display(alpha_input)\n",
        "display(perform_regression_button)\n",
        "# Initialize variables for model and scaler\n",
        "model = None\n",
        "scaler = None\n",
        "# Attach the perform_regularization function to the button click event\n",
        "def perform_regularization_action(b):\n",
        "    global model, scaler\n",
        "    model, scaler = perform_regularization(feature_dropdown.value, preprocess_dropdown.value, method_dropdown.value, alpha_input.value)\n",
        "\n",
        "perform_regression_button.on_click(perform_regularization_action)\n",
        "\n",
        "# Display the float input and button for making predictions\n",
        "display(input_value)\n",
        "display(predict_button)\n",
        "# Attach the make_predictions function to the button click event\n",
        "predict_button.on_click(lambda b: make_predictions(model, scaler, feature_dropdown.value, input_value.value))\n"
      ],
      "metadata": {
        "colab": {
          "base_uri": "https://localhost:8080/",
          "height": 1000,
          "referenced_widgets": [
            "40cc0f68b69e48538b80fdc857ce9c79",
            "be954e22b3014353b2982de894441d67",
            "59b4e008572249338f608d7bbfa0fb26",
            "ac015fffeae34a74b5663c5d244d412c",
            "73369ecf21014c678e56064b46757d39",
            "168e77a6968f491d89a2bad18546470c",
            "626e37b3d174426993f07ca2177dc308",
            "60569cc8bdf943f19b5c02c81af28a4b",
            "31290d3abd6d4f649985a46327c96384",
            "1f8a3f9d5f45457baec173e6f79912cc",
            "b718fd8262e642ba90587c5e48515796",
            "96740571c01a40018a82352f456e8968",
            "6b254ec8ca134eea9a8234ec175cb9ee",
            "bc3f25750aaa4cdfbdb7d74d1bbd55a2",
            "fb95a0733e184960b0244e3b4bf8ce5c",
            "04b182fd209643a4b754e4c9681279b2",
            "fd170dbeaae14523b01bb761a7a47a8a",
            "61fbda12b622464294a03c24fefe14ac",
            "587ee23233024f8ea7d9f23d6fb70110",
            "76e7eda501cc463d9569932cd748e78f",
            "2ac94c2da7e9472a9b62a9b231e85ecf",
            "b2a7b6d8f0c64533ae6c5cd1c1aed342",
            "526d6c2be123491ea71f90476ac4afc4",
            "70fcf1426a8444cc9c47f53bfc6a4cd6",
            "c008b5aefdbc4607bbca8e46d519a881",
            "3f04c413b205495fa487a63952886643",
            "b478c01f5acc4f80be21b878d8431926"
          ]
        },
        "id": "6O5fgPVjAS81",
        "outputId": "ff1f99e5-5612-4d8c-bc10-4e9e436a03b3"
      },
      "execution_count": 8,
      "outputs": [
        {
          "output_type": "display_data",
          "data": {
            "text/plain": [
              "Button(description='Display Dataset Info', style=ButtonStyle())"
            ],
            "application/vnd.jupyter.widget-view+json": {
              "version_major": 2,
              "version_minor": 0,
              "model_id": "40cc0f68b69e48538b80fdc857ce9c79"
            }
          },
          "metadata": {}
        },
        {
          "output_type": "display_data",
          "data": {
            "text/plain": [
              "Dropdown(description='Feature:', index=2, options=('MedInc', 'HouseAge', 'AveRooms', 'AveBedrms', 'Population'…"
            ],
            "application/vnd.jupyter.widget-view+json": {
              "version_major": 2,
              "version_minor": 0,
              "model_id": "ac015fffeae34a74b5663c5d244d412c"
            }
          },
          "metadata": {}
        },
        {
          "output_type": "display_data",
          "data": {
            "text/plain": [
              "Dropdown(description='Preprocess:', options=('None', 'Standard Scaler', 'Min-Max Scaler', 'Robust Scaler'), va…"
            ],
            "application/vnd.jupyter.widget-view+json": {
              "version_major": 2,
              "version_minor": 0,
              "model_id": "626e37b3d174426993f07ca2177dc308"
            }
          },
          "metadata": {}
        },
        {
          "output_type": "display_data",
          "data": {
            "text/plain": [
              "Button(description='Visualize Data', style=ButtonStyle())"
            ],
            "application/vnd.jupyter.widget-view+json": {
              "version_major": 2,
              "version_minor": 0,
              "model_id": "1f8a3f9d5f45457baec173e6f79912cc"
            }
          },
          "metadata": {}
        },
        {
          "output_type": "display_data",
          "data": {
            "text/plain": [
              "Dropdown(description='Method:', options=('Ridge', 'Lasso', 'Elastic Net'), value='Ridge')"
            ],
            "application/vnd.jupyter.widget-view+json": {
              "version_major": 2,
              "version_minor": 0,
              "model_id": "6b254ec8ca134eea9a8234ec175cb9ee"
            }
          },
          "metadata": {}
        },
        {
          "output_type": "display_data",
          "data": {
            "text/plain": [
              "Dropdown(description='Preprocess:', options=('None', 'Standard Scaler', 'Min-Max Scaler', 'Robust Scaler'), va…"
            ],
            "application/vnd.jupyter.widget-view+json": {
              "version_major": 2,
              "version_minor": 0,
              "model_id": "626e37b3d174426993f07ca2177dc308"
            }
          },
          "metadata": {}
        },
        {
          "output_type": "display_data",
          "data": {
            "text/plain": [
              "Dropdown(description='Feature:', index=2, options=('MedInc', 'HouseAge', 'AveRooms', 'AveBedrms', 'Population'…"
            ],
            "application/vnd.jupyter.widget-view+json": {
              "version_major": 2,
              "version_minor": 0,
              "model_id": "ac015fffeae34a74b5663c5d244d412c"
            }
          },
          "metadata": {}
        },
        {
          "output_type": "display_data",
          "data": {
            "text/plain": [
              "FloatText(value=1.0, description='Alpha:')"
            ],
            "application/vnd.jupyter.widget-view+json": {
              "version_major": 2,
              "version_minor": 0,
              "model_id": "04b182fd209643a4b754e4c9681279b2"
            }
          },
          "metadata": {}
        },
        {
          "output_type": "display_data",
          "data": {
            "text/plain": [
              "Button(description='Perform Regression', style=ButtonStyle())"
            ],
            "application/vnd.jupyter.widget-view+json": {
              "version_major": 2,
              "version_minor": 0,
              "model_id": "587ee23233024f8ea7d9f23d6fb70110"
            }
          },
          "metadata": {}
        },
        {
          "output_type": "display_data",
          "data": {
            "text/plain": [
              "FloatText(value=0.0, description='Input Value:')"
            ],
            "application/vnd.jupyter.widget-view+json": {
              "version_major": 2,
              "version_minor": 0,
              "model_id": "b2a7b6d8f0c64533ae6c5cd1c1aed342"
            }
          },
          "metadata": {}
        },
        {
          "output_type": "display_data",
          "data": {
            "text/plain": [
              "Button(description='Make Prediction', style=ButtonStyle())"
            ],
            "application/vnd.jupyter.widget-view+json": {
              "version_major": 2,
              "version_minor": 0,
              "model_id": "c008b5aefdbc4607bbca8e46d519a881"
            }
          },
          "metadata": {}
        },
        {
          "output_type": "display_data",
          "data": {
            "text/plain": [
              "<Figure size 640x480 with 1 Axes>"
            ],
            "image/png": "[encoded data removed]"
          },
          "metadata": {}
        },
        {
          "output_type": "display_data",
          "data": {
            "text/plain": [
              "<IPython.core.display.Markdown object>"
            ],
            "text/markdown": "### Visualization of Population"
          },
          "metadata": {}
        },
        {
          "output_type": "display_data",
          "data": {
            "text/plain": [
              "<IPython.core.display.Markdown object>"
            ],
            "text/markdown": "This scatter plot shows the relationship between the selected feature **Population** and the target variable **Median House Value**. Each blue point represents a data instance from the dataset. If preprocessing was selected, the feature values have been scaled accordingly."
          },
          "metadata": {}
        },
        {
          "output_type": "display_data",
          "data": {
            "text/plain": [
              "<IPython.core.display.Markdown object>"
            ],
            "text/markdown": "### Model Evaluation"
          },
          "metadata": {}
        },
        {
          "output_type": "display_data",
          "data": {
            "text/plain": [
              "<IPython.core.display.Markdown object>"
            ],
            "text/markdown": "**Mean Squared Error:** 1.3042488225221651"
          },
          "metadata": {}
        },
        {
          "output_type": "display_data",
          "data": {
            "text/plain": [
              "<IPython.core.display.Markdown object>"
            ],
            "text/markdown": "**R^2 Score:** -0.00022540672753823543"
          },
          "metadata": {}
        },
        {
          "output_type": "display_data",
          "data": {
            "text/plain": [
              "<IPython.core.display.Markdown object>"
            ],
            "text/markdown": "The Mean Squared Error (MSE) measures the average squared difference between the actual and predicted values. A lower MSE indicates a better fit. The R² Score indicates the proportion of the variance in the target variable that is predictable from the features. An R² score close to 1 indicates a better fit."
          },
          "metadata": {}
        },
        {
          "output_type": "display_data",
          "data": {
            "text/plain": [
              "<Figure size 640x480 with 1 Axes>"
            ],
            "image/png": "[encoded data removed]"
          },
          "metadata": {}
        },
        {
          "output_type": "display_data",
          "data": {
            "text/plain": [
              "<IPython.core.display.Markdown object>"
            ],
            "text/markdown": "### Ridge Regression on Training Data"
          },
          "metadata": {}
        },
        {
          "output_type": "display_data",
          "data": {
            "text/plain": [
              "<IPython.core.display.Markdown object>"
            ],
            "text/markdown": "This plot shows the Ridge Regression model fitted on the training data. The blue points represent the training data, and the red line represents the regression line fitted by the model."
          },
          "metadata": {}
        },
        {
          "output_type": "display_data",
          "data": {
            "text/plain": [
              "<Figure size 640x480 with 1 Axes>"
            ],
            "image/png": "[encoded data removed]"
          },
          "metadata": {}
        },
        {
          "output_type": "display_data",
          "data": {
            "text/plain": [
              "<IPython.core.display.Markdown object>"
            ],
            "text/markdown": "### Ridge Regression on Test Data"
          },
          "metadata": {}
        },
        {
          "output_type": "display_data",
          "data": {
            "text/plain": [
              "<IPython.core.display.Markdown object>"
            ],
            "text/markdown": "This plot shows the Ridge Regression model predictions on the test data. The blue points represent the test data, and the red line represents the regression line predicted by the model. Comparing this plot with the training data plot helps to assess the model's performance on unseen data."
          },
          "metadata": {}
        },
        {
          "output_type": "display_data",
          "data": {
            "text/plain": [
              "<IPython.core.display.Markdown object>"
            ],
            "text/markdown": "### Model Evaluation"
          },
          "metadata": {}
        },
        {
          "output_type": "display_data",
          "data": {
            "text/plain": [
              "<IPython.core.display.Markdown object>"
            ],
            "text/markdown": "**Mean Squared Error:** 1.3042488225221283"
          },
          "metadata": {}
        },
        {
          "output_type": "display_data",
          "data": {
            "text/plain": [
              "<IPython.core.display.Markdown object>"
            ],
            "text/markdown": "**R^2 Score:** -0.00022540672751003576"
          },
          "metadata": {}
        },
        {
          "output_type": "display_data",
          "data": {
            "text/plain": [
              "<IPython.core.display.Markdown object>"
            ],
            "text/markdown": "The Mean Squared Error (MSE) measures the average squared difference between the actual and predicted values. A lower MSE indicates a better fit. The R² Score indicates the proportion of the variance in the target variable that is predictable from the features. An R² score close to 1 indicates a better fit."
          },
          "metadata": {}
        },
        {
          "output_type": "display_data",
          "data": {
            "text/plain": [
              "<Figure size 640x480 with 1 Axes>"
            ],
            "image/png": "[encoded data removed]"
          },
          "metadata": {}
        },
        {
          "output_type": "display_data",
          "data": {
            "text/plain": [
              "<IPython.core.display.Markdown object>"
            ],
            "text/markdown": "### Ridge Regression on Training Data"
          },
          "metadata": {}
        },
        {
          "output_type": "display_data",
          "data": {
            "text/plain": [
              "<IPython.core.display.Markdown object>"
            ],
            "text/markdown": "This plot shows the Ridge Regression model fitted on the training data. The blue points represent the training data, and the red line represents the regression line fitted by the model."
          },
          "metadata": {}
        },
        {
          "output_type": "display_data",
          "data": {
            "text/plain": [
              "<Figure size 640x480 with 1 Axes>"
            ],
            "image/png": "[encoded data removed]"
          },
          "metadata": {}
        },
        {
          "output_type": "display_data",
          "data": {
            "text/plain": [
              "<IPython.core.display.Markdown object>"
            ],
            "text/markdown": "### Ridge Regression on Test Data"
          },
          "metadata": {}
        },
        {
          "output_type": "display_data",
          "data": {
            "text/plain": [
              "<IPython.core.display.Markdown object>"
            ],
            "text/markdown": "This plot shows the Ridge Regression model predictions on the test data. The blue points represent the test data, and the red line represents the regression line predicted by the model. Comparing this plot with the training data plot helps to assess the model's performance on unseen data."
          },
          "metadata": {}
        }
      ]
    }
  ]
}